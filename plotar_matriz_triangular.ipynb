{
 "cells": [
  {
   "cell_type": "code",
   "execution_count": null,
   "id": "59177291-d214-4a6c-a6ed-b15ca56f4ebd",
   "metadata": {},
   "outputs": [],
   "source": [
    "def plotar_matriz_triangular(nomes, matriz): #recebe uma lista de nomes e uma matriz de similaridade, com valores entre 0 e 1\n",
    "    matriz_np = np.array(matriz) #garantindo que a matriz é um array NumPy, necessário para facilitar as operações matemáticas e criação de gráficos\n",
    "\n",
    "    # Máscara para esconder a parte superior da matriz (acima da diagonal)\n",
    "    #mask = np.triu(np.ones_like(matriz_np, dtype=bool))\n",
    "    matriz_bool = np.ones_like(matriz_np, dtype=bool)\n",
    "    mascara = np.triu(matriz_bool)\n",
    "    \n",
    "\n",
    "    plt.figure(figsize=(8, 6)) #módulo para criar uma figura com tamanho definido em polegadas (largura, altura)\n",
    "    sns.heatmap(matriz_np, annot=True, fmt=\".2f\", mask=mascara,\n",
    "                xticklabels=nomes, yticklabels=nomes,\n",
    "                cmap=\"YlGnBu\", linewidths=0.5, cbar_kws={\"label\": \"Similaridade\"},\n",
    "                vmin=0.001, vmax=1.0)\n",
    "\n",
    "    plt.title(\"Matriz de Similaridade Genômica\", fontsize=16)\n",
    "    plt.xticks(rotation=45, ha='right') \n",
    "    plt.yticks(rotation=0)\n",
    "    plt.tight_layout()\n",
    "    plt.show()"
   ]
  },
  {
   "cell_type": "markdown",
   "id": "d9439995-611c-4222-ba43-b9ed62c69b8d",
   "metadata": {},
   "source": [
    "***Explicação da máscara***\n",
    "\n",
    "Máscara para esconder a parte superior da matriz (acima da diagonal) é útil porque a matriz é simétrica — ou seja, o valor de similaridade de A com B é o mesmo que de B com A. Dessa forma, usar a máscara evita mostrar dados duplicados visualmente.\n",
    "\n",
    "*np.ones_like(matriz_np, dtype=bool)*\n",
    "Cria um array (no caso, uma matriz) com o mesmo formato da matriz_np, preenchidos com valor 1. Entretanto, como utilizamos dtype = bool, 1 é convertido para True. Portanto, a matriz é toda preenchida com True.\n",
    "\n",
    "*np.triu* Significa \"upper triangular\". Dessa forma, essa função recebe uma função e retorna a parte superior dela com os valores originais e a inferior como false. Como a matriz é toda True, ela mantém True na parte triangular superior e define False na parte inferior.\n",
    "\n",
    "***Explicação do heatmap***\n",
    "\n",
    "Seaborn é uma biblioteca de visualização usada para criar gráficos de calor.\n",
    "Os valores númericos da matriz *matriz_np* que estão na máscara como *False* serão exibidos no gráfico.\n",
    "\n",
    "*annot = True* exibe os valores numéricos da matriz dentro de cada célula do gráfico.\n",
    "\n",
    "*fmt=\".2f\"* casas decimais que serão exibidas, no caso, duas\n",
    "\n",
    "*mask=mascara* onde em *mascara* onde está True, esconde, e onde está False exibe\n",
    "\n",
    "*xticklabels=nomes* os nomes aparecem no eixo x, sendo que cada coluna recebe um nome de virus\n",
    "\n",
    "*yticklabels=nomes* os nomes também aparecem no eixo y, sendo que cada linha recebe um nome de virus\n",
    "\n",
    "*cmap=\"YlGnBu\"* define a paleta de cores usada no gráfico:Yl = Yellow → Gn = Green → Bu = Blue. É definido cores mais claras para valores menores e mais escuras para maiores.\n",
    "\n",
    "*linewidths=0.5* define linhas divisórias entre as células com 0.5px\n",
    "\n",
    "*cbar_kws* significa \"colorbar keyword arguments\" é um argumento que recebe opções extras que serão usadas para configurar a barra de cores lateral (colorbar), que mostra a escala do heatmap. O dicionário adiciona o texto \"Similaridade\" à barra de cores. Esse parâmetro sempre espera um dicionário como valor.\n",
    "\n",
    "*vmin=0.001, vmax=1.0* são os valores limites para a escala de cores.\n",
    "\n",
    "***Explicação dos rótulos***\n",
    "\n",
    "*xticks* função da biblioteca matplotlib.pyplot que ajusta os rótulos do eixo X (horizontal, embaixo). No caso, utilizamos:\n",
    "\n",
    "*rotation=45* gira os textos dos rótulos em 45 graus.\n",
    "\n",
    "*ha='right'* define o alinhamento horizontal como “à direita” (do texto em relação à posição original), então os textos ficam inclinados para cima à direita.\n"
   ]
  },
  {
   "cell_type": "code",
   "execution_count": null,
   "id": "2652cef4-a373-4cf5-b0c6-a286c4898fe4",
   "metadata": {},
   "outputs": [],
   "source": []
  }
 ],
 "metadata": {
  "kernelspec": {
   "display_name": "ilumpy",
   "language": "python",
   "name": "ilumpy"
  },
  "language_info": {
   "codemirror_mode": {
    "name": "ipython",
    "version": 3
   },
   "file_extension": ".py",
   "mimetype": "text/x-python",
   "name": "python",
   "nbconvert_exporter": "python",
   "pygments_lexer": "ipython3",
   "version": "3.12.7"
  }
 },
 "nbformat": 4,
 "nbformat_minor": 5
}
