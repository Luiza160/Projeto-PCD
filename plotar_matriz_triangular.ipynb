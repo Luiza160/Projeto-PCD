{
 "cells": [
  {
   "cell_type": "code",
   "execution_count": null,
   "id": "59177291-d214-4a6c-a6ed-b15ca56f4ebd",
   "metadata": {},
   "outputs": [],
   "source": [
    "def plotar_matriz_triangular(nomes, matriz): #recebe uma lista de nomes e uma matriz de similaridade, com valores entre 0 e 1\n",
    "    matriz_np = np.array(matriz) #garantindo que a matriz é um array NumPy, necessário para facilitar as operações matemáticas e criação de gráficos\n",
    "\n",
    "    # Máscara para esconder a parte superior da matriz (acima da diagonal)\n",
    "    mask = np.triu(np.ones_like(matriz_np, dtype=bool))\n",
    "\n",
    "    plt.figure(figsize=(8, 6)) #criando figura com tamanho definido em polegadas (largura, altura)\n",
    "    sns.heatmap(matriz_np, annot=True, fmt=\".2f\", mask=mask,\n",
    "                xticklabels=nomes, yticklabels=nomes,\n",
    "                cmap=\"YlGnBu\", linewidths=0.5, cbar_kws={\"label\": \"Similaridade\"},\n",
    "                vmin=0.001, vmax=1.0)\n",
    "\n",
    "    plt.title(\"Matriz de Similaridade Genômica\", fontsize=16)\n",
    "    plt.xticks(rotation=45, ha='right')\n",
    "    plt.yticks(rotation=0)\n",
    "    plt.tight_layout()\n",
    "    plt.show()"
   ]
  },
  {
   "cell_type": "markdown",
   "id": "d9439995-611c-4222-ba43-b9ed62c69b8d",
   "metadata": {},
   "source": [
    "***Explicação da máscara***\n",
    "\n",
    "Máscara para esconder a parte superior da matriz (acima da diagonal) é útil porque a matriz é simétrica — ou seja, o valor de similaridade de A com B é o mesmo que de B com A. Dessa forma, usar a máscara evita mostrar dados duplicados visualmente.\n",
    "\n",
    "*np.ones_like(matriz_np, dtype=bool)*\n",
    "Cria um array (no caso, uma matriz) com o mesmo formato da matriz_np, preenchidos com valor 1. Entretanto, como utilizamos dtype = bool, 1 é convertido para True. Portanto, a matriz é toda preenchida com True.\n",
    "\n",
    "*np.triu* Significa \"upper triangular\". Dessa forma, essa função recebe uma função e retorna a parte superior dela com os valores originais e a inferior como false. Como a matriz é toda True, ela mantém True na parte triangular superior e define False na parte inferior.\n"
   ]
  },
  {
   "cell_type": "code",
   "execution_count": null,
   "id": "2652cef4-a373-4cf5-b0c6-a286c4898fe4",
   "metadata": {},
   "outputs": [],
   "source": []
  }
 ],
 "metadata": {
  "kernelspec": {
   "display_name": "ilumpy",
   "language": "python",
   "name": "ilumpy"
  },
  "language_info": {
   "codemirror_mode": {
    "name": "ipython",
    "version": 3
   },
   "file_extension": ".py",
   "mimetype": "text/x-python",
   "name": "python",
   "nbconvert_exporter": "python",
   "pygments_lexer": "ipython3",
   "version": "3.12.7"
  }
 },
 "nbformat": 4,
 "nbformat_minor": 5
}
