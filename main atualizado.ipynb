{
 "cells": [
  {
   "cell_type": "markdown",
   "id": "6e942505-a167-4228-971f-5dd8b96b9efc",
   "metadata": {},
   "source": [
    "<h1><center> Projeto PCD </center></h1>\n",
    "<center> Autores: Bruna Guedes; Jônatas de Oliveira; Luiza Davoli; Matheus Macedo </center>"
   ]
  },
  {
   "cell_type": "markdown",
   "id": "cc452ac3-752b-4211-a10b-f63d20aa3983",
   "metadata": {},
   "source": [
    "## Sumário\n",
    "\n",
    "1. Introdução  \n",
    "2. Bibliotecas\n",
    "\n",
    "3. Funções\n",
    "\n",
    "    3.1. numero_genomas\n",
    "\n",
    "    3.2. seleção_virus\n",
    "\n",
    "    3.3. buscar_genoma\n",
    "\n",
    "    3.4. baixar_genoma\n",
    "\n",
    "    3.5. rodar_muscle\n",
    "\n",
    "    3.6. plotar_matriz_triangular\n",
    "\n",
    "4. O Código\n",
    "\n",
    "5. Agradecimentos\n",
    "\n",
    "6. Referências  \n"
   ]
  },
  {
   "cell_type": "markdown",
   "id": "1e7a9111-c137-4efa-8996-245be16e7b90",
   "metadata": {},
   "source": [
    "## Introdução"
   ]
  },
  {
   "cell_type": "markdown",
   "id": "af989840-4154-4a5b-a0a1-b278816c69af",
   "metadata": {},
   "source": [
    "Projeto realizado para a diciplina de **Práticas em Ciência de Dados** no primeiro semestre de 2025 do curso de Ciência e Tecnologia, **Ilum Escola de Ciência**.\n",
    "\n",
    "A ideia para o projeto surgiu do desejo de relacionar conceitos estudados em outras áreas do conhecimento com as funcionalidades do Python estudadas durante o primeiro semestre. Por esse motivo, optou-se por aplicar as ideias de grafos, matrizes e processamento de strings para comparar as semelhanças e diferenças entre genomas de vírus já catalogados."
   ]
  },
  {
   "cell_type": "markdown",
   "id": "b5a99738-5abb-467b-b170-bb55454ad416",
   "metadata": {},
   "source": [
    "## Bibliotecas"
   ]
  },
  {
   "cell_type": "markdown",
   "id": "af5a49ab-02c7-42f7-8094-7da6ba9aba47",
   "metadata": {},
   "source": [
    "Abaixo estão listadas todas as bibliotecas utilizadas em nosso código:"
   ]
  },
  {
   "cell_type": "code",
   "execution_count": 2,
   "id": "43b56ffb-cb1f-4756-a52a-eb89696a2027",
   "metadata": {},
   "outputs": [],
   "source": [
    "from Bio import Entrez, SeqIO\n",
    "from pathlib import Path\n",
    "import subprocess\n",
    "import numpy as np\n",
    "import matplotlib.pyplot as plt\n",
    "import seaborn as sn\n",
    "from tkinter import *\n",
    "from tkinter import ttk"
   ]
  },
  {
   "cell_type": "markdown",
   "id": "19361350-0cc2-419b-bd92-a79f10c0c6f8",
   "metadata": {},
   "source": [
    "#### Biopython\n",
    "\n",
    "É um conjunto de ferramentas gratuitas para computação biológica em Python. É projeto membro da Open Bioinformatics Foundation (OBF), com repositório no GitHub (https://github.com/biopython).\n",
    "\n",
    "\n",
    "Ele é responsável por manter diversos recursos biológicos, incluindo o GenBank, um repositório público de sequências de nucleotídeos e suas anotações. Este banco de dados é amplamente utilizado em bioinformática para análise de genomas, sendo uma fonte essencial de dados para ferramentas de busca, comparação e alinhamento de sequências genéticas.\n",
    "\n",
    "Entrez\n",
    "\n",
    "O Entrez é o sistema de busca e integração de dados do NCBI, que permite o acesso a diversos bancos de dados biológicos, como o GenBank, PubMed, Gene, entre outros.\n",
    "\n",
    "Neste projeto, utilizamos o Entrez para acessar e baixar os genomas de variantes virais diretamente do NCBI. Isso foi feito por meio do módulo Bio.Entrez, fornecido pelo pacote Biopython, que oferece uma interface programática para as funcionalidades disponibilizadas pelo NCBI.\n",
    "\n",
    "Mais especificamente, acessamos o banco de dados GenBank para obter as sequências genômicas necessárias para análise.\n",
    "\n",
    "Muscle\n",
    "\n",
    "Multiple Sequence Comparison by Log-Expectation é um software de computador para alinhamento de múltiplas sequências de proteínas e nucleotídeos, sendo licenciado como domínio público.\n",
    "\n",
    "O alinhamento de sequências é o processo de comparar duas sequências (no caso, de nucleotídeos) para observar seu nível de identidade. O alinhamento entre duas sequências pode ser feito de forma global ou local. Quando global, comparamos uma sequência, ao longo de toda sua extensão, mas local se a comparação é apenas em pequenas regiões. Nesse contexto, MUSCLE é capaz de comparar genomas de ambas as formas, retornando um score de alinhamento, que é a soma dos pontos de similaridades, diferenças e abertura e extensão de falhas.\n",
    "\n",
    "O alinhamento é considerado simples quando apenas duas sequências são alinhadas, e múltipla quando três ou mais devem ser alinhadas entre si. No caso, a depender das entradas fornecidas pelo usuário, alinhamento simples ou múltiplo será realizado.\n",
    "\n",
    "SeqIO\n",
    "\n",
    "É um módulo da biblioteca Biopython para ler e escrever sequências de DNA, RNA ou proteínas a partir de arquivo como FASTA, GenBank ou EMBL, além de converter um formato para outro, lidando com arquivos contendo uma ou mais sequências representadas como objetos SeqRecord.\n",
    "\n",
    "AlignIO\n",
    "\n",
    "É um módulo de Biopython que fornece uma interface de entrada e saída de alinhamento de sequência, lidando com arquivos que contêm um ou mais alinhamentos de sequência representados como objetos Alignment.\n",
    "\n",
    "Subprocess\n",
    "\n",
    "O módulo subprocess é parte da biblioteca padrão do Python. É usado para executar comandos do sistema operacional a partir do seu script Python. No caso, foi utilizado para chamar o MUSCLE.exe .\n",
    "\n",
    "matplotlib.pyplot\n",
    "\n",
    "O módulo pyplot, parte da biblioteca Matplotlib, é utilizado para criar gráficos e visualizações em Python.\n",
    "\n",
    "Seaborn\n",
    "\n",
    "É uma biblioteca de visualização de dados em python que deixa os gráficos mais profissionais e informativos, usando como base o matplotlib. No caso, foi utilizado para gerar, com base na matriz de similaridade, um heatmap (gráfico em forma de tabela colorida para visualizar valores numéricos, onde as cores representam os números).\n",
    "\n",
    "Numpy\n",
    "\n",
    "NumPy (Numerical Python) é uma biblioteca do Python usada para fazer cálculos matemáticos e trabalhar com arrays (matrizes/vetores). No caso, utilizamos NumPy para criar a matriz de similaridade entre genomas antes de exibir no heatmap com seaborn (função calcular_similaridade), além de plotar a matriz triangular (função plotar_matriz_triangular).\n",
    "\n",
    "Plopy"
   ]
  },
  {
   "cell_type": "markdown",
   "id": "27f58203-b858-4cf9-b92a-134a09f51154",
   "metadata": {},
   "source": [
    "## Funções"
   ]
  },
  {
   "cell_type": "markdown",
   "id": "52d2cf59-cb47-4675-ba60-034f23ab637b",
   "metadata": {},
   "source": [
    "Abaixo definimos todas as funções necessárias para o funcionamento do código:"
   ]
  },
  {
   "cell_type": "markdown",
   "id": "9ed95afd-24c2-487c-beee-a568dc5dc8a2",
   "metadata": {},
   "source": [
    "`numero_genomas` : Essa função cria uma caixa interativa, onde é possível digitar a quantidade de genomas que se deseja comparar"
   ]
  },
  {
   "cell_type": "code",
   "execution_count": 6,
   "id": "29f56412-b5ed-4b18-be34-60438cbc3feb",
   "metadata": {},
   "outputs": [],
   "source": [
    "def numero_genomas():\n",
    "\n",
    "    # Esse bloco cria e configura a janela que será aberta pelo tkinter\n",
    "    janela = Tk()\n",
    "    janela.title('Painel interativo')\n",
    "    janela.geometry('600x100+100+100')\n",
    "    janela.attributes('-topmost', 1)\n",
    "    conteudo = ttk.Frame(janela, padding=(3,12))\n",
    "    titulo = ttk.Label(conteudo, text=\"Número de genomas que se deseja comparar\")\n",
    "\n",
    "    # Permite que o usuário digite em uma caixa de texto, realizando um input\n",
    "    caixa_texto = ttk.Entry(conteudo)\n",
    "\n",
    "    # Cria botões interativos com as funções desejadas\n",
    "    def comando():\n",
    "        numero = caixa_texto.get()\n",
    "        janela.destroy()\n",
    "\n",
    "        return numero\n",
    "    \n",
    "    ok = ttk.Button(conteudo, text=\"OK\", command=comando)\n",
    "\n",
    "    # Ajusta visualmente o tamanho e distância de cada componente da janela\n",
    "    conteudo.grid(column=0, row=0, sticky=(N, S, E, W))\n",
    "    titulo.grid(column=2, row=0, columnspan=4, sticky=(N, W), padx=5)\n",
    "    caixa_texto.grid(column=0, row=1, columnspan=6, sticky=(N,E,W), pady=5, padx=5)\n",
    "    ok.grid(column=4, row=3)\n",
    "\n",
    "    janela.columnconfigure(0, weight=2)\n",
    "    janela.rowconfigure(0, weight=2)\n",
    "    conteudo.rowconfigure(1, weight=2)\n",
    "    conteudo.columnconfigure(0, weight=4)\n",
    "    conteudo.columnconfigure(1, weight=4)\n",
    "    conteudo.columnconfigure(2, weight=4)\n",
    "    conteudo.columnconfigure(3, weight=2)\n",
    "    conteudo.columnconfigure(4, weight=2)\n",
    "\n",
    "    # Executa o código, permitindo que a janela seja aberta\n",
    "    janela.mainloop()\n",
    "\n",
    "    return numero"
   ]
  },
  {
   "cell_type": "markdown",
   "id": "9567d917-bbad-434e-bfbb-10fabe3f9c9d",
   "metadata": {},
   "source": [
    "`seleção_virus` : Essa função cria uma caixa interativa, onde é possível digitar o nome do vírus que se deseja procurar o genoma. A variável `nome_virus` salva os vírus selecionados, para que se possa realizar a busca no NCBI."
   ]
  },
  {
   "cell_type": "code",
   "execution_count": 11,
   "id": "19170b45-e191-45bd-8735-7374328c7be9",
   "metadata": {},
   "outputs": [],
   "source": [
    "def seleção_virus():\n",
    "\n",
    "    # Esse bloco cria e configura a janela que será aberta pelo tkinter\n",
    "    janela = Tk()\n",
    "    janela.title('Painel interativo')\n",
    "    janela.geometry('600x100+100+100')\n",
    "    janela.attributes('-topmost', 1)\n",
    "    conteudo = ttk.Frame(janela, padding=(3,12))\n",
    "    titulo = ttk.Label(conteudo, text=\"Nome do Vírus\")\n",
    "\n",
    "    # Permite que o usuário digite em uma caixa de texto, realizando um input\n",
    "    caixa_texto = ttk.Entry(conteudo)\n",
    "\n",
    "    # Cria botões interativos com as funções desejadas\n",
    "    def comando():\n",
    "        nome_do_virus = caixa_texto.get()\n",
    "        janela.destroy()\n",
    "\n",
    "        return nome_do_virus\n",
    "    \n",
    "    ok = ttk.Button(conteudo, text=\"OK\", command=comando)\n",
    "\n",
    "    # Ajusta visualmente o tamalho e distância de cada componente da janela\n",
    "    conteudo.grid(column=0, row=0, sticky=(N, S, E, W))\n",
    "    titulo.grid(column=2, row=0, columnspan=4, sticky=(N, W), padx=5)\n",
    "    caixa_texto.grid(column=0, row=1, columnspan=6, sticky=(N,E,W), pady=5, padx=5)\n",
    "    ok.grid(column=4, row=3)\n",
    "\n",
    "    janela.columnconfigure(0, weight=2)\n",
    "    janela.rowconfigure(0, weight=2)\n",
    "    conteudo.rowconfigure(1, weight=2)\n",
    "    conteudo.columnconfigure(0, weight=4)\n",
    "    conteudo.columnconfigure(1, weight=4)\n",
    "    conteudo.columnconfigure(2, weight=4)\n",
    "    conteudo.columnconfigure(3, weight=2)\n",
    "    conteudo.columnconfigure(4, weight=2)\n",
    "\n",
    "    # Executa o código, permitindo que a janela seja aberta\n",
    "    janela.mainloop()\n",
    "\n",
    "    return nome_virus"
   ]
  },
  {
   "cell_type": "markdown",
   "id": "9efd3457-7013-4f95-8453-e3774e35d254",
   "metadata": {},
   "source": [
    "`buscar_genoma` : Essa função busca o vírus selecionado na base de dados do NCBI (National Center for Biotechnology Information). Para isso, a função recebe o nome do vírus, busca o ID correspondente e retorna essa informação ao usuário. Esse é um passo muito importante, pois um mesmo vírus pode ter diferentes cepas e sequenciamentos, os quais terão diferentes IDs no NCBI. Caso o vírus não esteja na base de dados do site, a função informa o usuário sobre esse problema e requisita uma nova tentativa"
   ]
  },
  {
   "cell_type": "code",
   "execution_count": 12,
   "id": "51c0bc83-1548-44c7-ae7d-ea4338359f55",
   "metadata": {},
   "outputs": [],
   "source": [
    "def buscar_genoma(nome_virus):\n",
    "    Entrez.email = \"computandocombiopy@gmail.com\"\n",
    "    termo_de_busca = f\"{nome_virus} complete genome\"\n",
    "    busca = Entrez.esearch (db = \"nucleotide\", term = termo_de_busca, retmax = 1)\n",
    "    resultado = Entrez.read(busca)\n",
    "    busca.close()\n",
    "    \n",
    "    id_do_virus = (resultado[\"IdList\"])\n",
    "\n",
    "    if not id_do_virus:\n",
    "        print(f\"Não há um vírus {nome_virus} no NCBI. Tente outra vez!\")\n",
    "\n",
    "    return id_do_virus[0]"
   ]
  },
  {
   "cell_type": "markdown",
   "id": "5bee5b7e-991c-4c23-94de-4d0ee7764a66",
   "metadata": {},
   "source": [
    "`baixar_genoma` : Essa função será utilizada para baixar os genomas dos vírus escolhidos pelo usuário. "
   ]
  },
  {
   "cell_type": "code",
   "execution_count": 13,
   "id": "5f4e586e-1330-42e8-9ef4-4040f1a2e4d3",
   "metadata": {},
   "outputs": [],
   "source": [
    "def baixar_genoma(iden, output_folder=Path(\"data\")/\"genomes\"):\n",
    "    \n",
    "    # Faz os genomas irem para uma pasta relativa ao repositório\n",
    "    output_folder.mkdir(parents=True, exist_ok=True)\n",
    "    filename= output_folder/f\"{iden}.fasta\"\n",
    "    \n",
    "    # Acessando o Entrez\n",
    "    Entrez.email=\"computandocombiopy@gmail.com\"\n",
    "\n",
    "    # Checa se o arquivo fasta existe, se não, ele o cria\n",
    "    if not filename.exists():\n",
    "        \n",
    "        #Baixa o arquivo .fasta (funciona para GenBank e RefSeq)\n",
    "        stream= Entrez.efetch(\n",
    "            db=\"nucleotide\",id=iden, rettype=\"fasta\", retmode=\"text\"\n",
    "        )\n",
    "        data = stream.read()\n",
    "        \n",
    "        #Checa se data tá vazio ou não\n",
    "        if not data:\n",
    "            print(\"Error: Resposta vazia do NCBI.\")\n",
    "            \n",
    "        else:\n",
    "            with open(filename, \"w\") as output:\n",
    "                output.write(data)\n",
    "        print(f\"Salvo em {filename}\")"
   ]
  },
  {
   "cell_type": "markdown",
   "id": "53ac7675-5297-42b1-902c-03b05641a0db",
   "metadata": {},
   "source": [
    "`rodar_muscle` : A função recebe 2 arquivos como parâmetros, um `genomas.fasta` e outro `genomas_alinhados.fasta`. Depois, roda o muscle, utilizado para realizar o alinhamento entre genomas de diferentes vírus e compará-los. Esse alinhamento é salvo no arquivo `genomas_alinhados.fasta`."
   ]
  },
  {
   "cell_type": "code",
   "execution_count": 14,
   "id": "13f3ae32-ff8f-4059-95fd-af17f57b4f87",
   "metadata": {},
   "outputs": [],
   "source": [
    "def rodar_muscle(entrada_fasta, saida_fasta): \n",
    "    \n",
    "    # Acessa o executável do MUSCLE\n",
    "    muscle_exe = \"muscle-win64.v5.3.exe\"\n",
    "    \n",
    "    # Alinha o arquivo de entrada e coloca os dados de saída no arquivo criado pelo executável\n",
    "    comando = [muscle_exe, \"-align\", entrada_fasta, \"-output\", saida_fasta]\n",
    "    \n",
    "    # Tratamento de erro\n",
    "    try: \n",
    "        resultado = subprocess.run(comando, check=True, capture_output=True, text=True) \n",
    "        print(\"MUSCLE finalizado com sucesso.\")\n",
    "        print(\"STDOUT:\", resultado.stdout)\n",
    "        print(\"STDERR:\", resultado.stderr)\n",
    "    except subprocess.CalledProcessError as e:\n",
    "        print(\"Erro ao rodar MUSCLE:\")\n",
    "        print(\"STDOUT:\", e.stdout)\n",
    "        print(\"STDERR:\", e.stderr)\n",
    "        \n",
    "        # Imprime o erro novamente, além de interromper o programa, impedindo que o erro se prolongue\n",
    "        raise "
   ]
  },
  {
   "cell_type": "markdown",
   "id": "09564c58-a7b9-415d-9f8f-520904f49e08",
   "metadata": {},
   "source": [
    "`plotar_matriz_triangular` : A função recebe uma lista de nomes e uma matriz de similaridade, com valores entre 0 e 1. Cria uma matriz triangular, representando as semelhanças e diferenças entre os vírus escolhidos. Com isso, gera um gráfico, possibilitando um entendimento mais visual.\n",
    "\n",
    "Definindo melhor alguns dos termos utilizados nessa função:\n",
    "\n",
    "- A **máscara** para esconder a parte superior da matriz (acima da diagonal) é útil porque a matriz é simétrica — ou seja, o valor de similaridade de A com B é o mesmo que de B com A. Dessa forma, usar a máscara evita mostrar dados duplicados visualmente.\n",
    "\n",
    "- `np.ones_like(matriz_np, dtype=bool)` cria um array (no caso, uma matriz) com o mesmo formato da matriz_np, preenchidos com valor 1. Entretanto, como utilizamos dtype = bool, 1 é convertido para True. Portanto, a matriz é toda preenchida com True.\n",
    "\n",
    "- `np.triu` significa \"upper triangular\". Dessa forma, essa função recebe uma função e retorna a parte superior dela com os valores originais e a inferior como false. Como a matriz é toda True, ela mantém True na parte triangular superior e define False na parte inferior.\n",
    "\n",
    "- Os valores númericos da matriz matriz_np que estão na máscara como False serão exibidos no gráfico.\n",
    "\n",
    "- `annot = True` exibe os valores numéricos da matriz dentro de cada célula do gráfico.\n",
    "\n",
    "- xticklabels=nomes os nomes aparecem no eixo x, sendo que cada coluna recebe um nome de virus.\n",
    "\n",
    "- yticklabels=nomes os nomes também aparecem no eixo y, sendo que cada linha recebe um nome de virus."
   ]
  },
  {
   "cell_type": "code",
   "execution_count": 15,
   "id": "6e4df275-56b2-4e35-b3ae-30b70ce4ba52",
   "metadata": {},
   "outputs": [],
   "source": [
    "def plotar_matriz_triangular(nomes, matriz):\n",
    "\n",
    "    # Garante que a matriz é um array NumPy, necessário para facilitar as operações matemáticas e criação de gráficos\n",
    "    matriz_np = np.array(matriz) \n",
    "    \n",
    "    # Máscara para esconder a parte superior da matriz (acima da diagonal)\n",
    "    matriz_bool = np.ones_like(matriz_np, dtype=bool)\n",
    "    mascara = np.triu(matriz_bool)\n",
    "    \n",
    "    # Módulo para criar uma figura com tamanho definido em polegadas (largura, altura)\n",
    "    plt.figure(figsize=(8, 6)) \n",
    "    sns.heatmap(matriz_np, annot=True, fmt=\".2f\", mask=mascara,\n",
    "                xticklabels=nomes, yticklabels=nomes,\n",
    "                cmap=\"YlGnBu\", linewidths=0.5, cbar_kws={\"label\": \"Similaridade\"},\n",
    "                vmin=0.001, vmax=1.0)\n",
    "\n",
    "    plt.title(\"Matriz de Similaridade Genômica\", fontsize=16)\n",
    "    plt.xticks(rotation=45, ha='right') \n",
    "    plt.yticks(rotation=0)\n",
    "    plt.tight_layout()\n",
    "    plt.show()"
   ]
  },
  {
   "cell_type": "markdown",
   "id": "91ec1f92-9a9d-43b4-9f1c-0fa4f68a080f",
   "metadata": {},
   "source": [
    "## Código"
   ]
  },
  {
   "cell_type": "code",
   "execution_count": 7,
   "id": "efc1c5ee-7206-4c86-9b6f-8bf27c8430a4",
   "metadata": {},
   "outputs": [
    {
     "ename": "NameError",
     "evalue": "name 'numero' is not defined",
     "output_type": "error",
     "traceback": [
      "\u001b[1;31m---------------------------------------------------------------------------\u001b[0m",
      "\u001b[1;31mNameError\u001b[0m                                 Traceback (most recent call last)",
      "Cell \u001b[1;32mIn[7], line 1\u001b[0m\n\u001b[1;32m----> 1\u001b[0m \u001b[43mnumero_genomas\u001b[49m\u001b[43m(\u001b[49m\u001b[43m)\u001b[49m\n",
      "Cell \u001b[1;32mIn[6], line 41\u001b[0m, in \u001b[0;36mnumero_genomas\u001b[1;34m()\u001b[0m\n\u001b[0;32m     38\u001b[0m \u001b[38;5;66;03m# Executa o código, permitindo que a janela seja aberta\u001b[39;00m\n\u001b[0;32m     39\u001b[0m janela\u001b[38;5;241m.\u001b[39mmainloop()\n\u001b[1;32m---> 41\u001b[0m \u001b[38;5;28;01mreturn\u001b[39;00m \u001b[43mnumero\u001b[49m\n",
      "\u001b[1;31mNameError\u001b[0m: name 'numero' is not defined"
     ]
    }
   ],
   "source": [
    "numero_genomas()"
   ]
  },
  {
   "cell_type": "markdown",
   "id": "9d7d22d1-bdc9-44d7-8213-746c88c56198",
   "metadata": {},
   "source": [
    "## Agradecimentos\n",
    "\n",
    "Agradecemos muito aos professores dessa disciplina, por todo o aprendizado durante o semestre e a colaboração para a realização desse projeto:\n",
    "\n",
    "Professor Daniel Roberto Cassar\n",
    "\n",
    "Professor James Moraes de Almeida\n",
    "\n",
    "Professor Leandro Nascimento Lemos\n",
    "\n",
    "E à professora Juliana Helena Costa Smetana, da disciplina de Energia em Sistemas Vivos I, pela colaboração com as ideias iniciais, os conselhos e o apoio durante a realização de todo o projeto."
   ]
  },
  {
   "cell_type": "markdown",
   "id": "2514bd92-371a-40d5-af90-9fcc24f6e9dc",
   "metadata": {},
   "source": [
    "## Referências\n",
    "\n",
    "Sequenciamento genômico: no rastro do vírus. Disponível em: <https://agencia.fiocruz.br/sequenciamento-genomico-no-rastro-do-virus>. Acesso em: 11 jun. 2025.\n",
    "\n",
    "Accessing NCBI’s Entrez databases — Biopython 1.85 documentation. Disponível em: <https://biopython.org/docs/latest/Tutorial/chapter_entrez.html#chapter-entrez>. Acesso em: 11 jun. 2025.\n",
    "\n",
    "NATIONAL CENTER FOR BIOTECHNOLOGY INFORMATION. Our Mission - NCBI. Disponível em: <https://www.ncbi.nlm.nih.gov/home/about/mission/>.\n",
    "\n",
    "‌DOS, C. GenBank. Disponível em: <https://pt.wikipedia.org/wiki/GenBank>. Acesso em: 11 jun. 2025.\n",
    "\n",
    "‌BIOPYTHON. Biopython · Biopython. Disponível em: <https://biopython.org/>.\n",
    "\n",
    "Biopython Documentation — Biopython 1.85 documentation. Disponível em: <https://biopython.org/docs/latest/index.html#>. Acesso em: 11 jun. 2025.\n",
    "\n",
    "‌Cock, P. J. A., Antao, T., Chang, J. T., Chapman, B. A., Cox, C. J., Dalke, A., Friedberg, I., Hamelryck, T., Kauff, F., Wilczynski, B., & de Hoon, M. J. L. (2009). Biopython: freely available Python tools for computational molecular biology and bioinformatics. Bioinformatics, 25(11), 1422–1423.\n",
    "\n",
    "‌OPENAI. ChatGPT (versão GPT-4) [ferramenta de inteligência artificial]. Disponível em: https://chat.openai.com/. Acesso em: 11 jun. 2025.\n",
    "\n",
    "WIKIPEDIA CONTRIBUTORS. Sequence alignment. Disponível em: <https://en.wikipedia.org/wiki/Sequence_alignment>.\n",
    "\n",
    "WIKIPEDIA CONTRIBUTORS. MUSCLE (alignment software).\n",
    "\n",
    "INTRODUÇÃO, 3. 1. Alinhamento de Seqüências. Disponível em: <https://professor.pucgoias.edu.br/SiteDocente/admin/arquivosUpload/18497/material/Cap.%203%20Alinhamento%20de%20sequ%C3%AAncias.pdf>. Acesso em: 11 jun. 2025.\n",
    "\n",
    "The module for multiple sequence alignments, AlignIO. Disponível em: <https://biopython.org/wiki/AlignIO>. Acesso em: 11 jun. 2025.\n",
    "\n",
    "Introduction to NumPy. Disponível em: <https://www.w3schools.com/python/numpy/numpy_intro.asp>. Acesso em: 11 jun. 2025.\n",
    "\n",
    "\n",
    "\n",
    "Edgar, R. C. (2004). MUSCLE: a multiple sequence alignment method with reduced time and space complexity. BMC Bioinformatics, 5, 113. \n",
    "\n",
    "\n",
    "TkDocs home. Disponível em: <https://tkdocs.com/index.html>. Acesso em: 18 jun. 2025."
   ]
  },
  {
   "cell_type": "code",
   "execution_count": null,
   "id": "e4c8ce9b-e31e-4bba-90c1-b8e135215c33",
   "metadata": {},
   "outputs": [],
   "source": []
  }
 ],
 "metadata": {
  "kernelspec": {
   "display_name": "ilumpy",
   "language": "python",
   "name": "ilumpy"
  },
  "language_info": {
   "codemirror_mode": {
    "name": "ipython",
    "version": 3
   },
   "file_extension": ".py",
   "mimetype": "text/x-python",
   "name": "python",
   "nbconvert_exporter": "python",
   "pygments_lexer": "ipython3",
   "version": "3.12.7"
  }
 },
 "nbformat": 4,
 "nbformat_minor": 5
}
