{
 "cells": [
  {
   "cell_type": "code",
   "execution_count": null,
   "id": "07a27ee3-d30d-4695-8299-e2fbba501b9c",
   "metadata": {},
   "outputs": [],
   "source": [
    "def rodar_muscle(entrada_fasta, saida_fasta): #recebe 2 arquivos como parâmetros, um genomas.fasta e outro genomas_alinhados.fasta (onde o MUSCLE salva o resultado do alinhamento múltiplo)\n",
    "    muscle_exe = \"muscle-win64.v5.3.exe\"  # acessa o executável do MUSCLE\n",
    "    comando = [muscle_exe, \"-align\", entrada_fasta, \"-output\", saida_fasta] #alinha o arquivo de entrada e coloca os dados de saída no arquivo criado pelo executável, no caso genomas_alinhados.fasta, que foi passado como parâmetro\n",
    "    \n",
    "    #tratamento de erro\n",
    "    try: \n",
    "        resultado = subprocess.run(comando, check=True, capture_output=True, text=True) \n",
    "        print(\"MUSCLE finalizado com sucesso.\")\n",
    "        print(\"STDOUT:\", resultado.stdout)\n",
    "        print(\"STDERR:\", resultado.stderr)\n",
    "    except subprocess.CalledProcessError as e:\n",
    "        print(\"Erro ao rodar MUSCLE:\")\n",
    "        print(\"STDOUT:\", e.stdout)\n",
    "        print(\"STDERR:\", e.stderr)\n",
    "        raise #imprime o erro novamente, além de interromper o programa, impedindo que o erro se prolongue."
   ]
  },
  {
   "cell_type": "markdown",
   "id": "922043b6-c278-4c24-8260-efae154b89c3",
   "metadata": {},
   "source": [
    "***Explicação:***\n",
    "*resultado = subprocess.run(comando, check=True, capture_output=True, text=True)*\n",
    "\n",
    "\n",
    "a variável *comando* é passada como string, e será o comando a ser executado. \n",
    "\n",
    "*check = True* se o comando der erro, lança uma exceção chamada subprocess.CalledProcessError, executando o código except (o qual captura essa exceção e permite lidar com ela, imprimindo a mensagem de erro)\n",
    "\n",
    "*capture_output*: quando True, guarda todas as mensagens que o MUSCLE.exe tem como saída normal ou de erro. Sem esse termo, o programa escreveria diretamente no terminal, e não seria possível capturar essas mensagens.\n",
    "\n",
    "com o *.stdout*, capturamos a saída normal do programa e, com *.stderr*, a saída de erro. "
   ]
  },
  {
   "cell_type": "code",
   "execution_count": null,
   "id": "30c099b7-a4bf-4c77-8ec4-be134c0d0c08",
   "metadata": {},
   "outputs": [],
   "source": []
  },
  {
   "cell_type": "code",
   "execution_count": null,
   "id": "5f42d551-ad0e-4e83-900a-1c385c11074c",
   "metadata": {},
   "outputs": [],
   "source": []
  }
 ],
 "metadata": {
  "kernelspec": {
   "display_name": "ilumpy",
   "language": "python",
   "name": "ilumpy"
  },
  "language_info": {
   "codemirror_mode": {
    "name": "ipython",
    "version": 3
   },
   "file_extension": ".py",
   "mimetype": "text/x-python",
   "name": "python",
   "nbconvert_exporter": "python",
   "pygments_lexer": "ipython3",
   "version": "3.12.7"
  }
 },
 "nbformat": 4,
 "nbformat_minor": 5
}
