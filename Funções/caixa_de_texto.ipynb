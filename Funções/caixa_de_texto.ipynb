{
 "cells": [
  {
   "cell_type": "code",
   "execution_count": 9,
   "id": "a7a72aab-899f-40db-8778-0f780431e86f",
   "metadata": {},
   "outputs": [
    {
     "name": "stdout",
     "output_type": "stream",
     "text": [
      "None\n"
     ]
    }
   ],
   "source": [
    "from tkinter import *\n",
    "from tkinter import ttk\n",
    "\n",
    "# Esse bloco cria e configura a janela que será aberta pelo tkinter\n",
    "janela = Tk()\n",
    "janela.title('Painel interativo')\n",
    "janela.geometry('600x100+100+100')\n",
    "janela.attributes('-topmost', 1)\n",
    "conteudo = ttk.Frame(janela, padding=(3,12))\n",
    "titulo = ttk.Label(conteudo, text=\"Nome do Vírus\")\n",
    "\n",
    "# Permite que o usuário digite em uma caixa de texto, realizando um input\n",
    "caixa_texto = ttk.Entry(conteudo)\n",
    "\n",
    "# Cria botões interativos com as funções desejadas\n",
    "def comando():\n",
    "    nome_do_virus = caixa_texto.get()\n",
    "    janela.destroy()\n",
    "\n",
    "    return nome_do_virus\n",
    "    \n",
    "ok = ttk.Button(conteudo, text=\"OK\", command=comando)\n",
    "\n",
    "# Ajusta visualmente o tamalho e distância de cada componente da janela\n",
    "conteudo.grid(column=0, row=0, sticky=(N, S, E, W))\n",
    "titulo.grid(column=2, row=0, columnspan=4, sticky=(N, W), padx=5)\n",
    "caixa_texto.grid(column=0, row=1, columnspan=6, sticky=(N,E,W), pady=5, padx=5)\n",
    "ok.grid(column=4, row=3)\n",
    "\n",
    "janela.columnconfigure(0, weight=2)\n",
    "janela.rowconfigure(0, weight=2)\n",
    "conteudo.rowconfigure(1, weight=2)\n",
    "conteudo.columnconfigure(0, weight=4)\n",
    "conteudo.columnconfigure(1, weight=4)\n",
    "conteudo.columnconfigure(2, weight=4)\n",
    "conteudo.columnconfigure(3, weight=2)\n",
    "conteudo.columnconfigure(4, weight=2)\n",
    "\n",
    "\n",
    "janela.mainloop()\n",
    "\n",
    "\n",
    "print (nome_do_virus)"
   ]
  },
  {
   "cell_type": "code",
   "execution_count": null,
   "id": "23a25e72-fc7c-4b49-915a-5e05a5633461",
   "metadata": {},
   "outputs": [],
   "source": []
  }
 ],
 "metadata": {
  "kernelspec": {
   "display_name": "ilumpy",
   "language": "python",
   "name": "ilumpy"
  },
  "language_info": {
   "codemirror_mode": {
    "name": "ipython",
    "version": 3
   },
   "file_extension": ".py",
   "mimetype": "text/x-python",
   "name": "python",
   "nbconvert_exporter": "python",
   "pygments_lexer": "ipython3",
   "version": "3.12.7"
  }
 },
 "nbformat": 4,
 "nbformat_minor": 5
}
