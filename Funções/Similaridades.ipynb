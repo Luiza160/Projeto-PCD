{
 "cells": [
  {
   "cell_type": "code",
   "execution_count": 37,
   "id": "88c65e5c-e39b-495a-8c45-8e2e9d86a473",
   "metadata": {},
   "outputs": [],
   "source": [
    "def calcular_similaridades(alinhado_fasta):\n",
    "    entrada = AlignIO.read(alinhado_fasta, \"fasta\")\n",
    "\n",
    "    seqs = []\n",
    "    nomes = []\n",
    "\n",
    "    for reg in entrada:\n",
    "        seqs.append(str(reg.seq))\n",
    "        nomes.append(reg.id)\n",
    "\n",
    "    n = len(seqs)\n",
    "\n",
    "    matriz = np.full((n, n), 0, dtype = float)\n",
    "\n",
    "    for virus1 in range(n):\n",
    "        for virus2 in range(n):\n",
    "            bases_iguais = sum(a==b for a,b in zip(seqs[virus1], seqs[virus2]))\n",
    "            total_bases = len(seqs[virus1])\n",
    "            if total_bases > 0:\n",
    "                similaridade = bases_iguais / total_bases\n",
    "            else:\n",
    "                similaridade = 0\n",
    "            matriz[virus1, virus2] = similaridade\n",
    "    \n",
    "    return nomes, matriz\n",
    "   \n",
    "                             \n",
    "\n",
    "   \n",
    "    "
   ]
  },
  {
   "cell_type": "code",
   "execution_count": 38,
   "id": "87c198e7-62ac-4801-b6a1-50956a22377d",
   "metadata": {},
   "outputs": [
    {
     "data": {
      "text/plain": [
       "(['PV685706.1', 'PQ869266.1', 'PV474419.1'],\n",
       " array([[1.        , 0.36534025, 0.29152249],\n",
       "        [0.36534025, 1.        , 0.58564014],\n",
       "        [0.29152249, 0.58564014, 1.        ]]))"
      ]
     },
     "execution_count": 38,
     "metadata": {},
     "output_type": "execute_result"
    }
   ],
   "source": [
    "calcular_similaridades(\"genomas_alinhados.fasta\")"
   ]
  },
  {
   "cell_type": "code",
   "execution_count": 27,
   "id": "41ff91e9-3797-4539-a549-12920afb174c",
   "metadata": {},
   "outputs": [
    {
     "name": "stdout",
     "output_type": "stream",
     "text": [
      "a\n",
      "b\n",
      "a\n",
      "c\n",
      "a\n",
      "d\n",
      "a\n",
      "b\n",
      "r\n",
      "a\n"
     ]
    }
   ],
   "source": [
    "palavra = \"abacadabra\"\n",
    "for i in palavra:\n",
    "    print(i)"
   ]
  },
  {
   "cell_type": "code",
   "execution_count": null,
   "id": "ef40bf35-13dc-478b-bb72-afab450ddd7f",
   "metadata": {},
   "outputs": [],
   "source": []
  }
 ],
 "metadata": {
  "kernelspec": {
   "display_name": "ilumpy",
   "language": "python",
   "name": "ilumpy"
  },
  "language_info": {
   "codemirror_mode": {
    "name": "ipython",
    "version": 3
   },
   "file_extension": ".py",
   "mimetype": "text/x-python",
   "name": "python",
   "nbconvert_exporter": "python",
   "pygments_lexer": "ipython3",
   "version": "3.12.7"
  }
 },
 "nbformat": 4,
 "nbformat_minor": 5
}
