{
 "cells": [
  {
   "cell_type": "markdown",
   "id": "395954aa",
   "metadata": {},
   "source": [
    "<center><h1>Projeto PCD - Semelhança Genética Viral</h1></center>\n",
    "<center>Autores: Bruna Guedes; Jônatas de Oliveira; Luiza Davoli; Matheus Macedo</center>"
   ]
  },
  {
   "cell_type": "markdown",
   "id": "eb9ac379",
   "metadata": {},
   "source": [
    "## Sumário"
   ]
  },
  {
   "cell_type": "markdown",
   "id": "21ed1f2b",
   "metadata": {},
   "source": [
    "1. Introdução  \n",
    "2. Bibliotecas\n",
    "\n",
    "3. Funções\n",
    "\n",
    "    3.1. numero_genomas\n",
    "\n",
    "    3.2. selecao_virus\n",
    "\n",
    "    3.3. buscar_genoma\n",
    "\n",
    "    3.4. baixar_genoma\n",
    "\n",
    "    3.5. rodar_muscle\n",
    "\n",
    "    3.6. calcular_similaridade\n",
    "\n",
    "    3.7. calculando_dstribuicoes\n",
    "\n",
    "    3.8. selecao_resultados\n",
    "\n",
    "    3.8. plotar_matriz_triangular\n",
    "\n",
    "5. Função Principal\n",
    "\n",
    "6. Conclusão\n",
    "\n",
    "7. Referências  "
   ]
  },
  {
   "cell_type": "markdown",
   "id": "20b63f56",
   "metadata": {},
   "source": [
    "## 1. Introdução"
   ]
  },
  {
   "cell_type": "markdown",
   "id": "26fc544d",
   "metadata": {},
   "source": [
    "Projeto realizado para a diciplina de Práticas em Ciência de Dados no primeiro semestre de 2025 do curso de Ciência e Tecnologia, Ilum Escola de Ciência.\n",
    "\n",
    "A ideia para o projeto surgiu do desejo de relacionar conceitos estudados em outras áreas do conhecimento com as funcionalidades do Python estudadas durante o primeiro semestre. Por esse motivo, optou-se por aplicar as ideias de geração de gráficos, matrizes e processamento de strings para comparar as semelhanças e diferenças entre genomas de vírus já catalogados."
   ]
  },
  {
   "cell_type": "markdown",
   "id": "c3bb2877",
   "metadata": {},
   "source": [
    "## 2. Bibliotecas"
   ]
  },
  {
   "cell_type": "markdown",
   "id": "da1fcfd7",
   "metadata": {},
   "source": [
    "Todas as bibliotecas, bem como módulos ou funções específicas utilizadas no funcionamento do nosso código estão listadas abaixo:"
   ]
  },
  {
   "cell_type": "code",
   "execution_count": 1,
   "id": "5c25144a-0427-4dcf-8371-c336322eea9f",
   "metadata": {},
   "outputs": [],
   "source": [
    "from Bio import Entrez, SeqIO, AlignIO\n",
    "from pathlib import Path\n",
    "import sys\n",
    "import subprocess\n",
    "import numpy as np\n",
    "import matplotlib.pyplot as plt\n",
    "import seaborn as sns\n",
    "from io import StringIO\n",
    "from collections import defaultdict\n",
    "import os\n",
    "from tkinter import *\n",
    "from tkinter import ttk"
   ]
  },
  {
   "cell_type": "markdown",
   "id": "caf37510-a5e6-4187-82f7-2c51355925fc",
   "metadata": {},
   "source": [
    "Importante ressaltar que algumas dessas bibliotecas requerem instalação. Isso pode ser feito pelo próprio JupyterLab ou abrindo o terminal.\n",
    "\n",
    "biopython\n",
    "seaborn"
   ]
  },
  {
   "cell_type": "markdown",
   "id": "75f0c447-c347-462e-91dc-9c7cc6d9056d",
   "metadata": {},
   "source": [
    "- **Biopython**\n",
    "\n",
    "É um conjunto de ferramentas gratuitas para computação biológica em Python. É projeto membro da Open Bioinformatics Foundation (OBF), com repositório no GitHub (https://github.com/biopython).\n",
    "\n",
    "Ele é responsável por manter diversos recursos biológicos, incluindo o GenBank, um repositório público de sequências de nucleotídeos e suas anotações. Este banco de dados é amplamente utilizado em bioinformática para análise de genomas, sendo uma fonte essencial de dados para ferramentas de busca, comparação e alinhamento de sequências genéticas.\n",
    "\n",
    "- **Entrez**\n",
    "\n",
    "O Entrez é o sistema de busca e integração de dados do NCBI, que permite o acesso a diversos bancos de dados biológicos, como o GenBank, PubMed, Gene, entre outros.\n",
    "\n",
    "Neste projeto, utilizamos o Entrez para acessar e baixar os genomas de variantes virais diretamente do NCBI. Isso foi feito por meio do módulo Bio.Entrez, fornecido pelo pacote Biopython, que oferece uma interface programática para as funcionalidades disponibilizadas pelo NCBI.\n",
    "\n",
    "Mais especificamente, acessamos o banco de dados GenBank para obter as sequências genômicas necessárias para análise.\n",
    "\n",
    "- **SeqIO**\n",
    "\n",
    "É um módulo da biblioteca Biopython para ler e escrever sequências de DNA, RNA ou proteínas a partir de arquivo como FASTA, GenBank ou EMBL, além de converter um formato para outro, lidando com arquivos contendo uma ou mais sequências representadas como objetos SeqRecord.\n",
    "\n",
    "- **AlignIO**\n",
    "\n",
    "É um módulo de Biopython que fornece uma interface de entrada e saída de alinhamento de sequência, lidando com arquivos que contêm um ou mais alinhamentos de sequência representados como objetos Alignment.\n",
    "\n",
    "- **Subprocess**\n",
    "\n",
    "O módulo subprocess é parte da biblioteca padrão do Python. É usado para executar comandos do sistema operacional a partir do seu script Python. No caso, foi utilizado para chamar o MUSCLE.exe .\n",
    "\n",
    "- **Matplotlib.pyplot**\n",
    "\n",
    "O módulo pyplot, parte da biblioteca Matplotlib, é utilizado para criar gráficos e visualizações em Python.\n",
    "\n",
    "- **Seaborn**\n",
    "\n",
    "É uma biblioteca de visualização de dados em python que deixa os gráficos mais profissionais e informativos, usando como base o matplotlib. No caso, foi utilizado para gerar, com base na matriz de similaridade, um heatmap (gráfico em forma de tabela colorida para visualizar valores numéricos, onde as cores representam os números).\n",
    "\n",
    "- **Numpy**\n",
    "\n",
    "NumPy (Numerical Python) é uma biblioteca do Python usada para fazer cálculos matemáticos e trabalhar com arrays (matrizes/vetores). No caso, utilizamos NumPy para criar a matriz de similaridade entre genomas antes de exibir no heatmap com seaborn (função calcular_similaridade), além de plotar a matriz triangular (função plotar_matriz_triangular).\n",
    "\n",
    "- **Tkinter**\n",
    "\n",
    "Tkinter é uma biblioteca da linguagem Python que permite desenvolver interfaces gráficas. Utilizamos essa biblioteca para criar janelas que deixassem a interação e visualização mais simples para o usuário."
   ]
  },
  {
   "cell_type": "markdown",
   "id": "15c4b13f",
   "metadata": {},
   "source": [
    "## 3. Funções "
   ]
  },
  {
   "cell_type": "markdown",
   "id": "0e6a88e3",
   "metadata": {},
   "source": [
    "Abaixo definimos e explicamos todas as funções necessárias para o funcionamento do programa."
   ]
  },
  {
   "cell_type": "markdown",
   "id": "ac2c0671",
   "metadata": {},
   "source": [
    "3.1.: `numero_genomas` : Essa função cria uma caixa interativa, onde é possível digitar a quantidade de genomas que se deseja comparar"
   ]
  },
  {
   "cell_type": "code",
   "execution_count": 2,
   "id": "fb140f13-63dc-41a8-8d32-e5badbe92354",
   "metadata": {},
   "outputs": [],
   "source": [
    "def numero_genomas():\n",
    "\n",
    "    numero = None\n",
    "\n",
    "    # Esse bloco cria e configura a janela que será aberta pelo tkinter\n",
    "    janela = Tk()\n",
    "    janela.title('Painel interativo')\n",
    "    janela.geometry('600x100+100+100')\n",
    "    janela.attributes('-topmost', 1)\n",
    "    conteudo = ttk.Frame(janela, padding=(3,12))\n",
    "    titulo = ttk.Label(conteudo, text=\"Número de genomas que se deseja comparar\")\n",
    "\n",
    "    # Permite que o usuário digite em uma caixa de texto, realizando um input\n",
    "    caixa_texto = ttk.Entry(conteudo)\n",
    "\n",
    "    # Cria botões interativos com as funções desejadas\n",
    "    def comando():\n",
    "        nonlocal numero\n",
    "        numero = caixa_texto.get()\n",
    "        janela.destroy()\n",
    "\n",
    "        return numero\n",
    "    \n",
    "    ok = ttk.Button(conteudo, text=\"OK\", command=comando)\n",
    "\n",
    "    # Ajusta visualmente o tamanho e distância de cada componente da janela\n",
    "    conteudo.grid(column=0, row=0, sticky=(N, S, E, W))\n",
    "    titulo.grid(column=2, row=0, columnspan=4, sticky=(N, W), padx=5)\n",
    "    caixa_texto.grid(column=0, row=1, columnspan=6, sticky=(N,E,W), pady=5, padx=5)\n",
    "    ok.grid(column=4, row=3)\n",
    "\n",
    "    janela.columnconfigure(0, weight=2)\n",
    "    janela.rowconfigure(0, weight=2)\n",
    "    conteudo.rowconfigure(1, weight=2)\n",
    "    conteudo.columnconfigure(0, weight=4)\n",
    "    conteudo.columnconfigure(1, weight=4)\n",
    "    conteudo.columnconfigure(2, weight=4)\n",
    "    conteudo.columnconfigure(3, weight=2)\n",
    "    conteudo.columnconfigure(4, weight=2)\n",
    "\n",
    "    # Executa o código, permitindo que a janela seja aberta\n",
    "    janela.mainloop()\n",
    "\n",
    "    return numero"
   ]
  },
  {
   "cell_type": "markdown",
   "id": "9b561948-7fe9-457c-8742-ebf377c2fa05",
   "metadata": {},
   "source": [
    "3.2.: `selecao_virus` : Essa função cria uma caixa interativa, onde é possível digitar o nome do vírus que se deseja procurar o genoma. A variável `nome_virus` salva os vírus selecionados, para que se possa realizar a busca no NCBI."
   ]
  },
  {
   "cell_type": "code",
   "execution_count": 5,
   "id": "7f638db4-b5bb-4aad-ace5-51e2e86893c5",
   "metadata": {},
   "outputs": [],
   "source": [
    "def selecao_virus():\n",
    "    nome_do_virus = None  # variável acessível fora de `comando`\n",
    "\n",
    "    # Esse bloco cria e configura a janela que será aberta pelo tkinter\n",
    "    janela = Tk()\n",
    "    janela.title('Painel interativo')\n",
    "    janela.geometry('600x100+100+100')\n",
    "    janela.attributes('-topmost', 1)\n",
    "    conteudo = ttk.Frame(janela, padding=(3,12))\n",
    "    titulo = ttk.Label(conteudo, text=\"Nome do Vírus em Inglês\")\n",
    "\n",
    "    # Permite que o usuário digite em uma caixa de texto, realizando um input\n",
    "    caixa_texto = ttk.Entry(conteudo)\n",
    "\n",
    "    # Cria botões interativos com as funções desejadas\n",
    "    def comando():\n",
    "        nonlocal nome_do_virus\n",
    "        nome_do_virus = caixa_texto.get()\n",
    "        janela.destroy()\n",
    "\n",
    "    ok = ttk.Button(conteudo, text=\"OK\", command=comando)\n",
    "\n",
    "    # Ajusta visualmente o tamanho e distância de cada componente da janela\n",
    "    conteudo.grid(column=0, row=0, sticky=(N, S, E, W))\n",
    "    titulo.grid(column=2, row=0, columnspan=4, sticky=(N, W), padx=5)\n",
    "    caixa_texto.grid(column=0, row=1, columnspan=6, sticky=(N,E,W), pady=5, padx=5)\n",
    "    ok.grid(column=4, row=3)\n",
    "\n",
    "    janela.columnconfigure(0, weight=2)\n",
    "    janela.rowconfigure(0, weight=2)\n",
    "    conteudo.rowconfigure(1, weight=2)\n",
    "    for i in range(5):\n",
    "        conteudo.columnconfigure(i, weight=2)\n",
    "\n",
    "    # Executa o código, permitindo que a janela seja aberta\n",
    "    janela.mainloop()\n",
    "\n",
    "    return nome_do_virus"
   ]
  },
  {
   "cell_type": "markdown",
   "id": "7f8bb338-1dd2-4b5c-a1f4-dc399aba7134",
   "metadata": {},
   "source": [
    "3.3.: `buscar_genoma` : Essa função busca o vírus selecionado na base de dados do NCBI (National Center for Biotechnology Information). Para isso, a função recebe o nome do vírus, busca o Accession Code correspondente e retorna essa informação ao usuário. Esse é um passo muito importante, pois um mesmo vírus pode ter diferentes cepas e sequenciamentos, os quais terão diferentes códigos no NCBI. Caso o vírus não esteja na base de dados do site, a função informa o usuário sobre esse problema e requisita uma nova tentativa"
   ]
  },
  {
   "cell_type": "code",
   "execution_count": 6,
   "id": "c44df5dd-6dc1-4bb7-bfcc-a096dbfbce79",
   "metadata": {},
   "outputs": [],
   "source": [
    "def buscar_genoma(nome_virus):\n",
    "    \n",
    "    Entrez.email = \"computandocombiopy@gmail.com\"\n",
    "    termo_de_busca = f\"{nome_virus} complete genome\"\n",
    "    busca = Entrez.esearch (db = \"nucleotide\", term = termo_de_busca, retmax = 1, sort = \"relevance\")\n",
    "    resultado = Entrez.read(busca)\n",
    "    busca.close()\n",
    "    \n",
    "    lista_ids = (resultado[\"IdList\"])\n",
    "\n",
    "    if not lista_ids:\n",
    "        print(f\"Não há um vírus {nome_virus} no NCBI. Tente outra vez!\")\n",
    "\n",
    "    id_do_virus = lista_ids[0]\n",
    "\n",
    "    resumo = Entrez.esummary(db=\"nucleotide\", id=id_do_virus)\n",
    "    dados = Entrez.read(resumo)\n",
    "    resumo.close()\n",
    "\n",
    "    acession = dados[0][\"AccessionVersion\"]\n",
    "\n",
    "    print(acession)\n",
    "\n",
    "    return acession"
   ]
  },
  {
   "cell_type": "markdown",
   "id": "c0c8943d",
   "metadata": {},
   "source": [
    "3.4.: `baixar_genoma` : essa função recebe um Accession Code e faz o download do genoma completo associado com ele, disponibilizado pelo NCBI como um arquivo `.fasta`. Ela guarda os arquivos baixados na pasta `data/genomes` e, posteriamente, faz o pré-processamento do genoma, reduzindo-o para 3000 pares de base e inserindo-o em outro arquivo chamado `todos_genomas.fasta`. "
   ]
  },
  {
   "cell_type": "code",
   "execution_count": 7,
   "id": "6e6a00dd-a0c5-48e3-9b6a-9206bf74f58b",
   "metadata": {},
   "outputs": [],
   "source": [
    "def baixar_genoma(iden, output_folder=Path(\"data\")/\"genomes\", output_file=Path(\"data/genomes/todos_genomas.fasta\"), limite_pb=3000):\n",
    "    Entrez.email = \"computandocombiopy@gmail.com\"\n",
    "    output_file.parent.mkdir(parents=True, exist_ok=True)\n",
    "    output_folder.mkdir(parents=True, exist_ok=True)\n",
    "    filename=output_folder/f\"{iden}.fasta\"\n",
    "    \n",
    "    try:\n",
    "        # Baixa o genoma completo em formato FASTA\n",
    "        handle = Entrez.efetch(db=\"nucleotide\", id=iden, rettype=\"fasta\", retmode=\"text\", sort = \"lenght\")\n",
    "        fasta_texto = handle.read()\n",
    "        handle.close()\n",
    "\n",
    "        if not fasta_texto:\n",
    "            print(\"Error: Resposta vazia do NCBI\")\n",
    "        else: \n",
    "            with open(filename, \"w\") as output:\n",
    "                output.write(fasta_texto)\n",
    "            print(f\"Salvo em {filename}\")\n",
    "\n",
    "        if not fasta_texto.strip():\n",
    "            print(f\"Nenhum dado retornado para {iden}\")\n",
    "            return\n",
    "        \n",
    "        # Lê o conteúdo como um objeto SeqRecord\n",
    "        seq_io = StringIO(fasta_texto)\n",
    "        record = SeqIO.read(seq_io, \"fasta\")\n",
    "\n",
    "        # Trunca a sequência para no máximo 3000 pb\n",
    "        record.seq = record.seq[:limite_pb]\n",
    "\n",
    "        # Escreve em um arquivo FASTA único (modo append)\n",
    "        with open(output_file, \"a\") as output_handle:\n",
    "            SeqIO.write(record, output_handle, \"fasta\")\n",
    "\n",
    "        print(f\"{iden} salvo (limitado a {limite_pb} pb) em {output_file}\")\n",
    "\n",
    "    except Exception as e:\n",
    "        print(f\"Erro ao processar {iden}: {e}\")"
   ]
  },
  {
   "cell_type": "markdown",
   "id": "158a07d9",
   "metadata": {},
   "source": [
    "3.5.: `rodar_muscle` : A função recebe 2 arquivos como parâmetros, um `genomas.fasta` e outro `genomas_alinhados.fasta`. Depois, roda o muscle, utilizado para realizar o alinhamento entre genomas de diferentes vírus e compará-los. Esse alinhamento é salvo no arquivo `genomas_alinhados.fasta`."
   ]
  },
  {
   "cell_type": "code",
   "execution_count": 8,
   "id": "b09b2029-a17f-4376-abd0-a5d1559b6218",
   "metadata": {},
   "outputs": [],
   "source": [
    "def rodar_muscle(entrada_fasta, saida_fasta): \n",
    "    \n",
    "    # Acessa o executável do MUSCLE\n",
    "    muscle_exe = \"muscle-win64.v5.3.exe\"\n",
    "    \n",
    "    # Alinha o arquivo de entrada e coloca os dados de saída no arquivo criado pelo executável\n",
    "    comando = [muscle_exe, \"-align\", entrada_fasta, \"-output\", saida_fasta]\n",
    "    \n",
    "    # Tratamento de erro\n",
    "    try: \n",
    "        resultado = subprocess.run(comando, check=True, capture_output=True, text=True) \n",
    "        print(\"MUSCLE finalizado com sucesso.\")\n",
    "        print(\"STDOUT:\", resultado.stdout)\n",
    "        print(\"STDERR:\", resultado.stderr)\n",
    "    except subprocess.CalledProcessError as e:\n",
    "        print(\"Erro ao rodar MUSCLE:\")\n",
    "        print(\"STDOUT:\", e.stdout)\n",
    "        print(\"STDERR:\", e.stderr)\n",
    "        \n",
    "        # Imprime o erro novamente, além de interromper o programa, impedindo que o erro se prolongue\n",
    "        raise "
   ]
  },
  {
   "cell_type": "markdown",
   "id": "e0f80e86",
   "metadata": {},
   "source": [
    "3.6.: `calcular_similaridades`: "
   ]
  },
  {
   "cell_type": "code",
   "execution_count": 9,
   "id": "c6af7714-18a6-4023-a242-e9d2c17488fd",
   "metadata": {},
   "outputs": [],
   "source": [
    "def calcular_similaridades(alinhado_fasta):\n",
    "    entrada = AlignIO.read(alinhado_fasta, \"fasta\")\n",
    "\n",
    "    seqs = []\n",
    "    nomes = []\n",
    "\n",
    "    for reg in entrada:\n",
    "        seqs.append(str(reg.seq))\n",
    "        nomes.append(reg.id)\n",
    "\n",
    "    n = len(seqs)\n",
    "\n",
    "    matriz = np.full((n, n), 0, dtype = float)\n",
    "\n",
    "    for virus1 in range(n):\n",
    "        for virus2 in range(n):\n",
    "            bases_iguais = sum(a==b for a,b in zip(seqs[virus1], seqs[virus2]))\n",
    "            total_bases = len(seqs[virus1])\n",
    "            if total_bases > 0:\n",
    "                similaridade = bases_iguais / total_bases\n",
    "            else:\n",
    "                similaridade = 0\n",
    "            matriz[virus1, virus2] = similaridade\n",
    "    \n",
    "    return nomes, matriz"
   ]
  },
  {
   "cell_type": "markdown",
   "id": "239fa84f",
   "metadata": {},
   "source": [
    "3.7.: `calculando_distribuições` : Aqui temos 3 funções que operam em conjunto:\n",
    "1.  `obtendo_fasta` recebe como argumento o caminho de uma pasta com arquivos `.fasta`e devolve uma lista com os caminhos de todos os arquivos desse tipo que existem no local;\n",
    "1. `calculo_dist` recebe como argumento o caminho de um arquivo `.fasta` e retorna um valor com a porcentagem de pares de base C + G que existem no genoma, bem como um dicionário com o percentual de cada par de base presente no genoma. \n",
    "1. `calculando_distribuicoes` não recebe argumentos e, fazendo uso das funções acima descritas, retorna dois dicionários. O primeiro deles tem como chaves os Accession Codes de cada genoma e como valores o percentual de C+G presentes. O segundo dicionário também tem as mesmas chaves, mas os valores são dicionários no seguinte formato {'A':x%, 'U':y%, 'C':z%, 'G':w%} para genomas de RNA ou {'A':x%, 'T':y%, 'C':z%, 'G':w%} para genomas de DNA. "
   ]
  },
  {
   "cell_type": "code",
   "execution_count": 10,
   "id": "a71e22f2",
   "metadata": {},
   "outputs": [],
   "source": [
    "# Obtendo todos arquivos da pasta genomes (retorna uma lista com objetos path)\n",
    "def obtendo_fasta(fasta_dir: Path) -> list[Path]:\n",
    "  # Checando se o diretório existe ou não\n",
    "  if not fasta_dir.exists():\n",
    "    raise FileNotFoundError(f\"Diretório de arquivos FASTA não encontrado: {fasta_dir}\")\n",
    "# Verificação dupla agora de se é realmente um diretório e não um arquvio\n",
    "  if not fasta_dir.is_dir():\n",
    "    raise NotADirectoryError(f\"O caminho não é um diretório: {fasta_dir}\")\n",
    "  return list(fasta_dir.glob('*.fasta'))+list(fasta_dir.glob('*.FASTA'))\n",
    "\n",
    "  \n",
    "def calculo_dist(fasta_file: Path):\n",
    "  # Inicializo como defaultdict (me ajuda a manejar o dicionário, execução + rápida)\n",
    "  contador_bases=defaultdict(int)\n",
    "  total_bases=0\n",
    "  \"\"\"A função calcula a porcentagem de bases em uma sequência de RNA.\n",
    "  Os retornos são (percentual_gc, {'A':x%, 'U':y%, 'C':z%, 'G':w%})\n",
    "  \"\"\"\n",
    "  # Abro o arquivo e chamo de f\n",
    "  with open(fasta_file, 'r') as f:\n",
    "    for linha in f:\n",
    "      if linha.startswith('>'):\n",
    "          continue\n",
    "    # Por que strip() e upper? Retiro qualquer espaço ou caracter de linha nova\n",
    "    # Converto tudo pra maiúsculo.\n",
    "      for base in linha.strip().upper():\n",
    "        #PARA RNA PELO AMOR\n",
    "        if base in 'ACGUT':\n",
    "          contador_bases[base]+=1\n",
    "          total_bases+=1\n",
    "\n",
    "  base_percentuais={\n",
    "    base:(count/total_bases)*100 \n",
    "    for base, count in contador_bases.items()\n",
    "  }\n",
    "\n",
    "  perc_gc= base_percentuais.get('G', 0) + base_percentuais.get('C',0)\n",
    "  \n",
    "  return perc_gc, base_percentuais\n",
    "  \n",
    "def calculando_distribuicoes():\n",
    "  porcentagensCG={}\n",
    "  lista_porcentagens={}\n",
    "  # Obtendo o caminho em que esse código está sendo executado\n",
    "  raiz_projeto = Path(os.getcwd())\n",
    "\n",
    "  # Encontro o caminho para a pasta genomes que tem os arquivos .fasta\n",
    "  fasta_dir= raiz_projeto / \"data/genomes\"\n",
    "\n",
    "  try: \n",
    "    # Obtenho todos os arquivos que vem do diretório \n",
    "    fasta_files=obtendo_fasta(fasta_dir)\n",
    "\n",
    "    # Quero saber se eu puxei os arquivos do diretório:\n",
    "    if not fasta_files:\n",
    "      print(f\"Sem arquivos fasta em {fasta_dir}\")\n",
    "      #Sai do código prematuramente (não tinha nada, tem que sair)\n",
    "      return\n",
    "    # Achei arquivos!!\n",
    "    print(f\"Encontrados arquivos .fasta\")\n",
    "\n",
    "    # Percorro os arquivos e adiciono nos dicionários um par\n",
    "    # Código do virus/porcentagemC e codigo do virus/lista_porcentagens\n",
    "    for fasta_file in fasta_files:\n",
    "      # perc_cg tem a porcentagem de CG e lista_perc tem as porcentagens de cada par de base\n",
    "      if fasta_file.stem != \"todos_genomas\":\n",
    "        perc_gc, lista_perc=calculo_dist(fasta_file)\n",
    "        porcentagensCG[fasta_file.stem]=perc_gc\n",
    "        lista_porcentagens[fasta_file.stem]=lista_perc\n",
    "\n",
    "  except Exception as e:\n",
    "    print(f\"Erro {str(e)}\", file=sys.stderr)\n",
    "    sys.exit(1)\n",
    "      \n",
    "  return porcentagensCG, lista_porcentagens"
   ]
  },
  {
   "cell_type": "markdown",
   "id": "c005caba-fc6a-4399-be23-a4dbd1c3d54d",
   "metadata": {},
   "source": [
    "3.8.: `selecao_resultados` : Nessa função, o Tkinter é utilizado novamente para que o usuário escolha quais dados deseja que gerem um gráfico. Dessa forma, além de uma visualização mais fácil e agradável dos resultados, é possível reduzir a quantidade de dados a serem processados, restando apenas aqueles que se deseja obter."
   ]
  },
  {
   "cell_type": "code",
   "execution_count": 11,
   "id": "982dba39-8811-47ec-add3-dbd50970dc3d",
   "metadata": {},
   "outputs": [],
   "source": [
    "def selecao_resultados():\n",
    "    grafico_matriz = None\n",
    "    grafico_cg = None\n",
    "    grafico_bases = None\n",
    "\n",
    "    # Esse bloco cria e configura a janela que será aberta pelo tkinter\n",
    "    janela = Tk()\n",
    "    conteudo = ttk.Frame(janela, padding=(3,3,12,12))\n",
    "    titulo = ttk.Label(conteudo, text=\"Selecione os resultados que deseja observar\")\n",
    "\n",
    "    # Cria variáveis para armazenar o valor das caixas de seleção\n",
    "    onevar = BooleanVar()\n",
    "    twovar = BooleanVar()\n",
    "    threevar = BooleanVar()\n",
    "    onevar.set(False)\n",
    "    twovar.set(False)\n",
    "    threevar.set(False)\n",
    "\n",
    "    # Cria botões interativos com as funções desejadas\n",
    "    def comando():\n",
    "        nonlocal grafico_matriz, grafico_cg, grafico_bases\n",
    "        grafico_matriz = onevar.get()\n",
    "        grafico_cg = twovar.get()\n",
    "        grafico_bases = threevar.get()\n",
    "        janela.destroy()\n",
    "\n",
    "    # Configura os botões de seleção\n",
    "    one = ttk.Checkbutton(conteudo, text=\"Similaridade genômica\", variable=onevar, onvalue=True)\n",
    "    two = ttk.Checkbutton(conteudo, text=\"Porcentagem de CG\", variable=twovar, onvalue=True)\n",
    "    three = ttk.Checkbutton(conteudo, text=\"Porcentagem de cada base\", variable=threevar, onvalue=True)\n",
    "    ok = ttk.Button(conteudo, text=\"Okay\", command=comando)\n",
    "\n",
    "    # Ajusta visualmente o tamanho e distância de cada componente da janela\n",
    "    conteudo.grid(column=0, row=0, sticky=(N, S, E, W))\n",
    "    titulo.grid(column=1, row=0, columnspan=2, sticky=(N, W), padx=5)\n",
    "    one.grid(column=0, row=3)\n",
    "    two.grid(column=1, row=3)\n",
    "    three.grid(column=2, row=3)\n",
    "    ok.grid(column=3, row=3)\n",
    "\n",
    "    janela.columnconfigure(0, weight=1)\n",
    "    janela.rowconfigure(0, weight=1)\n",
    "    conteudo.columnconfigure(0, weight=3)\n",
    "    conteudo.columnconfigure(1, weight=3)\n",
    "    conteudo.columnconfigure(2, weight=3)\n",
    "    conteudo.columnconfigure(3, weight=1)\n",
    "    conteudo.columnconfigure(4, weight=1)\n",
    "    conteudo.rowconfigure(1, weight=1)\n",
    "\n",
    "    # Executa o código, permitindo que a janela seja aberta\n",
    "    janela.mainloop()\n",
    "\n",
    "    return grafico_matriz, grafico_cg, grafico_bases"
   ]
  },
  {
   "cell_type": "markdown",
   "id": "e5fa185f",
   "metadata": {},
   "source": [
    "3.9.:  `plotar_matriz_triangular` : A função recebe uma lista de nomes e uma matriz de similaridade, com valores entre 0 e 1. Cria uma matriz triangular, representando as semelhanças e diferenças entre os vírus escolhidos. Com isso, gera um gráfico, possibilitando um entendimento mais visual."
   ]
  },
  {
   "cell_type": "code",
   "execution_count": 12,
   "id": "2ae2c3a9-a902-4e96-be97-097fe7b008ad",
   "metadata": {},
   "outputs": [],
   "source": [
    "def plotar_matriz_triangular(nomes, matriz):\n",
    "\n",
    "    # Garante que a matriz é um array NumPy, necessário para facilitar as operações matemáticas e criação de gráficos\n",
    "    matriz_np = np.array(matriz) \n",
    "    \n",
    "    # Máscara para esconder a parte superior da matriz (acima da diagonal)\n",
    "    matriz_bool = np.ones_like(matriz_np, dtype=bool)\n",
    "    mascara = np.triu(matriz_bool)\n",
    "    \n",
    "    # Módulo para criar uma figura com tamanho definido em polegadas (largura, altura)\n",
    "    plt.figure(figsize=(8, 6)) \n",
    "    sns.heatmap(matriz_np, annot=True, fmt=\".2f\", mask=mascara,\n",
    "                xticklabels=nomes, yticklabels=nomes,\n",
    "                cmap=\"YlGnBu\", linewidths=0.5, cbar_kws={\"label\": \"Similaridade\"},\n",
    "                vmin=0.001, vmax=1.0)\n",
    "\n",
    "    plt.title(\"Matriz de Similaridade Genômica\", fontsize=16)\n",
    "    plt.xticks(rotation=45, ha='right') \n",
    "    plt.yticks(rotation=0)\n",
    "    plt.tight_layout()\n",
    "    plt.show()"
   ]
  },
  {
   "cell_type": "markdown",
   "id": "bd1a6481-c7f0-4b11-879e-9f4c7e4f225a",
   "metadata": {},
   "source": [
    "3.10.: `plotar_grafico_cg` : A função recebe uma lista com os nomes dos vírus escolhidos pelo usuário e um dicionário com as respectivas porcentagens das bases C e G constituintes do genoma desses organismos. Com essas informações, é gerado um gráfico de barras simples."
   ]
  },
  {
   "cell_type": "code",
   "execution_count": 13,
   "id": "00ffcf15-0d38-4399-8a43-401892d8382d",
   "metadata": {},
   "outputs": [],
   "source": [
    "def plotar_grafico_cg(virus, porcentagens):\n",
    "\n",
    "    valores = []\n",
    "    \n",
    "    for seq_id, gc_percent in porcentagens.items():\n",
    "        valores.append(gc_percent)\n",
    "\n",
    "    plt.bar(virus, valores)\n",
    "    plt.ylabel('Porcentagem')\n",
    "    plt.title('Porcentagem de G e C nos genomas')\n",
    "    plt.show()"
   ]
  },
  {
   "cell_type": "markdown",
   "id": "f0beb670-a7d5-4614-a965-2e42c3d7b166",
   "metadata": {},
   "source": [
    "3.11.: `plotar_grafico_bases` : (ainda não está funcionando)"
   ]
  },
  {
   "cell_type": "code",
   "execution_count": 20,
   "id": "22c4addd-4c36-4cf2-9100-6f7ba8ac42cf",
   "metadata": {},
   "outputs": [
    {
     "data": {
      "image/png": "[encoded data removed]",
      "text/plain": [
       "<Figure size 640x480 with 1 Axes>"
      ]
     },
     "metadata": {},
     "output_type": "display_data"
    }
   ],
   "source": [
    "def plotar_grafico_bases(virus, porcentagens): # Retorna o percentual de faturamento do mês\n",
    "\n",
    "    fig, ax = plt.subplots()\n",
    "\n",
    "    fruits = ['A', 'C', 'G', 'T', 'U']\n",
    "    counts = [40, 100, 30, 55, 0]\n",
    "    bar_labels = ['red', 'blue', '_red', 'orange', 'purple']\n",
    "    bar_colors = ['tab:red', 'tab:blue', 'tab:red', 'tab:orange']\n",
    "\n",
    "    ax.bar(fruits, counts, label=bar_labels, color=bar_colors)\n",
    "\n",
    "    ax.set_ylabel('fruit supply')\n",
    "    ax.set_title('Fruit supply by kind and color')\n",
    "    ax.legend(title='Fruit color')\n",
    "\n",
    "    plt.show()\n",
    "\n",
    "plotar_grafico_bases(\"HIV\", [55, 5, 20, 20])"
   ]
  },
  {
   "cell_type": "markdown",
   "id": "10b91bbc",
   "metadata": {},
   "source": [
    "## 4. Função Principal "
   ]
  },
  {
   "cell_type": "markdown",
   "id": "3050436f",
   "metadata": {},
   "source": [
    "A função principal, responsável por acionar todas as outras e produzir o resultado final do código chama-se `comparar_genomas_geral`.\n",
    "\n",
    "Ela recebe como argumento uma lista de strings, contendo os vírus que terão seus genomas baixados, alinhados, comparados e associados por uma matriz triangular de similaridade. "
   ]
  },
  {
   "cell_type": "code",
   "execution_count": 17,
   "id": "4a8d4ec7-cf20-437c-aeba-47e88fce9bdb",
   "metadata": {},
   "outputs": [],
   "source": [
    "def comparar_genomas_geral(virus_escolhidos):\n",
    "\n",
    "    # Chamando as variáveis criadas para verificar se ocorrerá a plotagem dos gráficos ou não\n",
    "    grafico_matriz, grafico_cg, grafico_bases = selecao_resultados()\n",
    "    \n",
    "    lista_acessions = []\n",
    "\n",
    "    pasta = \"data/genomes\"\n",
    "\n",
    "    # Apaga todos os arquivos da pasta antes de continuar\n",
    "    for arquivo in os.listdir(pasta):\n",
    "        caminho_arquivo = os.path.join(pasta, arquivo)\n",
    "        if os.path.isfile(caminho_arquivo):\n",
    "            os.remove(caminho_arquivo)\n",
    "\n",
    "    for virus in virus_escolhidos:\n",
    "        print(f\"Baixando o genoma de {virus}\")\n",
    "        lista_acessions.append(buscar_genoma(virus))\n",
    "    for iden in lista_acessions:\n",
    "        baixar_genoma(iden)\n",
    "\n",
    "    mapa = dict(zip(lista_acessions, virus_escolhidos))\n",
    "\n",
    "    rodar_muscle(\"data/genomes/todos_genomas.fasta\", \"data/genomes/genomas_alinhados\")\n",
    "    nomes, matriz = calcular_similaridades(\"data/genomes/genomas_alinhados\")\n",
    "\n",
    "    \"\"\" Essa série de \"ifs\" vai definr quais informações serão ou não processadas e mostradas ao usuário \"\"\"\n",
    "    # Esse bloco confere se o usuário selecionou a visualização do gráfico gerado a partir da matriz\n",
    "    if grafico_matriz == True:\n",
    "        virus_para_matriz = [mapa[item] for item in nomes]\n",
    "        plotar_matriz_triangular(virus_para_matriz, matriz)\n",
    "    else:\n",
    "        print()\n",
    "\n",
    "    # Esse bloco confere se o usuário selecionou a visualização do gráfico da porcentagem de GC\n",
    "    if grafico_cg == True:\n",
    "        porcentagensCG, lista_porcentagens=calculando_distribuicoes()\n",
    "        plotar_grafico_cg(virus_escolhidos, porcentagensCG)\n",
    "    else:\n",
    "        print()\n",
    "\n",
    "    # Esse bloco confere se o usuário selecionou a visualização do gráfico com as porcentagens de todas as bases\n",
    "    if grafico_bases == True:\n",
    "        print(\"\\nComposição dos genomas por percentual de bases:\")\n",
    "        for seq_id, bases in lista_porcentagens.items():\n",
    "            print(f\"  {seq_id}:\")\n",
    "            for base, percent in bases.items():\n",
    "                print(f\"    {base}: {percent:.2f}%\")\n",
    "    else: \n",
    "        print()\n"
   ]
  },
  {
   "cell_type": "code",
   "execution_count": 18,
   "id": "76c150b9-a9e7-4ea2-9821-b57995c0ca22",
   "metadata": {},
   "outputs": [
    {
     "name": "stdout",
     "output_type": "stream",
     "text": [
      "Você quer comparar 4 vírus.\n",
      "os virus são ['HIV', 'Zika', 'Influenza', 'Marburg']\n",
      "Baixando o genoma de HIV\n",
      "AF082339.1\n",
      "Baixando o genoma de Zika\n",
      "MW015936.1\n",
      "Baixando o genoma de Influenza\n",
      "DQ487340.1\n",
      "Baixando o genoma de Marburg\n",
      "NC_001608.4\n",
      "Salvo em data\\genomes\\AF082339.1.fasta\n",
      "AF082339.1 salvo (limitado a 3000 pb) em data\\genomes\\todos_genomas.fasta\n",
      "Salvo em data\\genomes\\MW015936.1.fasta\n",
      "MW015936.1 salvo (limitado a 3000 pb) em data\\genomes\\todos_genomas.fasta\n",
      "Salvo em data\\genomes\\DQ487340.1.fasta\n",
      "DQ487340.1 salvo (limitado a 3000 pb) em data\\genomes\\todos_genomas.fasta\n",
      "Salvo em data\\genomes\\NC_001608.4.fasta\n",
      "NC_001608.4 salvo (limitado a 3000 pb) em data\\genomes\\todos_genomas.fasta\n",
      "MUSCLE finalizado com sucesso.\n",
      "STDOUT: \n",
      "STDERR: \n",
      "muscle 5.3.win64 [d9725ac]  16.6Gb RAM, 14 cores\n",
      "Built Nov 10 2024 22:59:05\n",
      "(C) Copyright 2004-2021 Robert C. Edgar.\n",
      "https://drive5.com\n",
      "\n",
      "[align data/genomes/todos_genomas.fasta]\n",
      "Input: 4 seqs, avg length 2690, max 3000, min 1762\n",
      "\n",
      "00:00 4.7Mb    25.0% Derep 1 uniques, 0 dupes\n",
      "00:00 4.7Mb   100.0% Derep 4 uniques, 0 dupes\n",
      "\n",
      "00:00 4.7Mb  CPU has 14 cores, running 14 threads\n",
      "00:00 5.1Mb    16.7% Calc posteriors\n",
      "00:00 3.9Gb   100.0% Calc posteriors\n",
      "\n",
      "00:04 7.2Mb    33.3% UPGMA5         \n",
      "00:04 7.2Mb   100.0% UPGMA5\n",
      "\n",
      "00:04 7.2Mb    16.7% Consistency (1/2)\n",
      "00:04 158Mb   100.0% Consistency (1/2)\n",
      "\n",
      "00:05 9.2Mb    16.7% Consistency (2/2)\n",
      "00:05 139Mb   100.0% Consistency (2/2)\n",
      "\n",
      "00:05 9.2Mb     1.0% Refining         \n",
      "00:06 9.2Mb     3.0% Refining\n",
      "00:07 9.2Mb    20.0% Refining\n",
      "00:08 9.2Mb    40.0% Refining\n",
      "00:09 9.2Mb    60.0% Refining\n",
      "00:10 9.2Mb    76.0% Refining\n",
      "00:11 9.2Mb    91.0% Refining\n",
      "00:11 9.2Mb   100.0% Refining\n",
      "\n",
      "\n"
     ]
    },
    {
     "data": {
      "image/png": "[encoded data removed]",
      "text/plain": [
       "<Figure size 800x600 with 2 Axes>"
      ]
     },
     "metadata": {},
     "output_type": "display_data"
    },
    {
     "name": "stdout",
     "output_type": "stream",
     "text": [
      "Encontrados arquivos .fasta\n"
     ]
    },
    {
     "data": {
      "image/png": "[encoded data removed]",
      "text/plain": [
       "<Figure size 640x480 with 1 Axes>"
      ]
     },
     "metadata": {},
     "output_type": "display_data"
    },
    {
     "name": "stdout",
     "output_type": "stream",
     "text": [
      "\n",
      "Composição dos genomas por percentual de bases:\n",
      "  AF082339.1:\n",
      "    T: 20.74%\n",
      "    G: 25.19%\n",
      "    A: 33.67%\n",
      "    C: 20.40%\n",
      "  DQ487340.1:\n",
      "    A: 33.60%\n",
      "    G: 22.36%\n",
      "    C: 19.98%\n",
      "    T: 24.06%\n",
      "  MW015936.1:\n",
      "    A: 27.31%\n",
      "    G: 29.25%\n",
      "    T: 21.38%\n",
      "    C: 22.07%\n",
      "  NC_001608.4:\n",
      "    A: 32.29%\n",
      "    G: 18.62%\n",
      "    C: 19.66%\n",
      "    T: 29.42%\n"
     ]
    }
   ],
   "source": [
    "numero = numero_genomas()\n",
    "print(f\"Você quer comparar {numero} vírus.\")\n",
    "\n",
    "if int(numero) < 2 or int(numero) > 15:\n",
    "    raise ValueError(\"Você deve comparar no mínimo dois e no máximo quinze vírus\")\n",
    "\n",
    "virus_escolhidos = []\n",
    "    \n",
    "for i in range(int(numero)):\n",
    "    virus = selecao_virus()\n",
    "    virus_escolhidos.append(virus)\n",
    "print(f\"os virus são {virus_escolhidos}\")\n",
    "\n",
    "comparar_genomas_geral(virus_escolhidos)\n"
   ]
  },
  {
   "cell_type": "markdown",
   "id": "52207a4b-4438-4a13-b334-827797380e48",
   "metadata": {},
   "source": [
    "## 5. Conclusão"
   ]
  },
  {
   "cell_type": "markdown",
   "id": "12ccac98-1130-4ac3-8f72-462705306212",
   "metadata": {},
   "source": []
  },
  {
   "cell_type": "markdown",
   "id": "fff10194",
   "metadata": {},
   "source": [
    "## 6. Referências"
   ]
  },
  {
   "cell_type": "markdown",
   "id": "d63fd22f",
   "metadata": {},
   "source": [
    "Sequenciamento genômico: no rastro do vírus. Disponível em: <https://agencia.fiocruz.br/sequenciamento-genomico-no-rastro-do-virus>. Acesso em: 11 jun. 2025.\n",
    "\n",
    "Accessing NCBI’s Entrez databases — Biopython 1.85 documentation. Disponível em: <https://biopython.org/docs/latest/Tutorial/chapter_entrez.html#chapter-entrez>. Acesso em: 11 jun. 2025.\n",
    "\n",
    "NATIONAL CENTER FOR BIOTECHNOLOGY INFORMATION. Our Mission - NCBI. Disponível em: <https://www.ncbi.nlm.nih.gov/home/about/mission/>.\n",
    "\n",
    "‌DOS, C. GenBank. Disponível em: <https://pt.wikipedia.org/wiki/GenBank>. Acesso em: 11 jun. 2025.\n",
    "\n",
    "‌BIOPYTHON. Biopython · Biopython. Disponível em: <https://biopython.org/>.\n",
    "\n",
    "Biopython Documentation — Biopython 1.85 documentation. Disponível em: <https://biopython.org/docs/latest/index.html#>. Acesso em: 11 jun. 2025.\n",
    "\n",
    "‌Cock, P. J. A., Antao, T., Chang, J. T., Chapman, B. A., Cox, C. J., Dalke, A., Friedberg, I., Hamelryck, T., Kauff, F., Wilczynski, B., & de Hoon, M. J. L. (2009). Biopython: freely available Python tools for computational molecular biology and bioinformatics. Bioinformatics, 25(11), 1422–1423.\n",
    "\n",
    "‌OPENAI. ChatGPT (versão GPT-4) [ferramenta de inteligência artificial]. Disponível em: https://chat.openai.com/. Acesso em: 11 jun. 2025.\n",
    "\n",
    "WIKIPEDIA CONTRIBUTORS. Sequence alignment. Disponível em: <https://en.wikipedia.org/wiki/Sequence_alignment>.\n",
    "\n",
    "WIKIPEDIA CONTRIBUTORS. MUSCLE (alignment software).\n",
    "\n",
    "INTRODUÇÃO, 3. 1. Alinhamento de Seqüências. Disponível em: <https://professor.pucgoias.edu.br/SiteDocente/admin/arquivosUpload/18497/material/Cap.%203%20Alinhamento%20de%20sequ%C3%AAncias.pdf>. Acesso em: 11 jun. 2025.\n",
    "\n",
    "The module for multiple sequence alignments, AlignIO. Disponível em: <https://biopython.org/wiki/AlignIO>. Acesso em: 11 jun. 2025.\n",
    "\n",
    "Introduction to NumPy. Disponível em: <https://www.w3schools.com/python/numpy/numpy_intro.asp>. Acesso em: 11 jun. 2025.\n",
    "\n",
    "\n",
    "\n",
    "Edgar, R. C. (2004). MUSCLE: a multiple sequence alignment method with reduced time and space complexity. BMC Bioinformatics, 5, 113. \n",
    "\n",
    "\n",
    "TkDocs home. Disponível em: <https://tkdocs.com/index.html>. Acesso em: 18 jun. 2025."
   ]
  }
 ],
 "metadata": {
  "kernelspec": {
   "display_name": "Python 3",
   "language": "python",
   "name": "python3"
  },
  "language_info": {
   "codemirror_mode": {
    "name": "ipython",
    "version": 3
   },
   "file_extension": ".py",
   "mimetype": "text/x-python",
   "name": "python",
   "nbconvert_exporter": "python",
   "pygments_lexer": "ipython3",
   "version": "3.12.7"
  }
 },
 "nbformat": 4,
 "nbformat_minor": 5
}
