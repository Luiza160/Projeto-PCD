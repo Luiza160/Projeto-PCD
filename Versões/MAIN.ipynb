{
 "cells": [
  {
   "cell_type": "markdown",
   "id": "6e942505-a167-4228-971f-5dd8b96b9efc",
   "metadata": {},
   "source": [
    "<h1><center> Projeto PCD </center></h1>\n",
    "<center> Autores: Bruna Guedes; Jônatas de Oliveira; Luiza Davoli; Matheus Macedo </center>"
   ]
  },
  {
   "cell_type": "markdown",
   "id": "cc452ac3-752b-4211-a10b-f63d20aa3983",
   "metadata": {},
   "source": [
    "## Sumário\n",
    "\n",
    "1. Introdução  \n",
    "2. Bibliotecas\n",
    "\n",
    "3. Funções\n",
    "\n",
    "    3.1. numero_genomas\n",
    "\n",
    "    3.2. seleção_virus\n",
    "\n",
    "    3.3. buscar_genoma\n",
    "\n",
    "    3.4. baixar_genoma\n",
    "\n",
    "    3.5. rodar_muscle\n",
    "\n",
    "    3.6. plotar_matriz_triangular\n",
    "\n",
    "3. Referências  \n"
   ]
  },
  {
   "cell_type": "markdown",
   "id": "1e7a9111-c137-4efa-8996-245be16e7b90",
   "metadata": {},
   "source": [
    "## Introdução"
   ]
  },
  {
   "cell_type": "markdown",
   "id": "af989840-4154-4a5b-a0a1-b278816c69af",
   "metadata": {},
   "source": []
  },
  {
   "cell_type": "markdown",
   "id": "b5a99738-5abb-467b-b170-bb55454ad416",
   "metadata": {},
   "source": [
    "## Bibliotecas"
   ]
  },
  {
   "cell_type": "markdown",
   "id": "af5a49ab-02c7-42f7-8094-7da6ba9aba47",
   "metadata": {},
   "source": [
    "Abaixo estão listadas todas as bibliotecas utilizadas em nosso código:"
   ]
  },
  {
   "cell_type": "code",
   "execution_count": null,
   "id": "43b56ffb-cb1f-4756-a52a-eb89696a2027",
   "metadata": {},
   "outputs": [],
   "source": [
    "from Bio import Entrez, SeqIO\n",
    "from pathlib import Path\n",
    "import subprocess\n",
    "import numpy as np\n",
    "import matplotlib.pyplot as plt\n",
    "import seaborn as sn\n",
    "from tkinter import *\n",
    "from tkinter import ttk"
   ]
  },
  {
   "cell_type": "markdown",
   "id": "27f58203-b858-4cf9-b92a-134a09f51154",
   "metadata": {},
   "source": [
    "## Funções"
   ]
  },
  {
   "cell_type": "markdown",
   "id": "52d2cf59-cb47-4675-ba60-034f23ab637b",
   "metadata": {},
   "source": [
    "Abaixo definimos todas as funções necessárias para o funcionamento do código:"
   ]
  },
  {
   "cell_type": "markdown",
   "id": "9ed95afd-24c2-487c-beee-a568dc5dc8a2",
   "metadata": {},
   "source": [
    "`numero_genomas` : Essa função cria uma caixa interativa, onde é possível digitar a quantidade de genomas que se deseja comparar"
   ]
  },
  {
   "cell_type": "code",
   "execution_count": 6,
   "id": "29f56412-b5ed-4b18-be34-60438cbc3feb",
   "metadata": {},
   "outputs": [],
   "source": [
    "def numero_genomas():\n",
    "\n",
    "    root = Tk()\n",
    "\n",
    "    # Cria a caixa de texto em que o usuário deve informar a quantidade de genomas que deseja comparar\n",
    "    content = ttk.Frame(root, padding=(3,3,12,12))\n",
    "    numerolbl = ttk.Label(content, text=\"Quantidade de genomas a se comparar\")\n",
    "    numero = ttk.Entry(content)\n",
    "\n",
    "    # Cria botões interativos para que o usuário possa confirmar ou cancelar sua escolha\n",
    "    ok = ttk.Button(content, text=\"OK\")\n",
    "    cancelar = ttk.Button(content, text=\"Cancelar\")\n",
    "\n",
    "    # Configurações gráficas da \n",
    "    content.grid(column=0, row=0, sticky=(N, S, E, W))\n",
    "    numerolbl.grid(column=2, row=0, columnspan=3, sticky=(N, W), padx=5)\n",
    "    numero.grid(column=1, row=1, columnspan=4, sticky=(N,E,W), pady=5, padx=5)\n",
    "    ok.grid(column=3, row=3)\n",
    "    cancelar.grid(column=4, row=3)\n",
    "\n",
    "    root.columnconfigure(0, weight=2)\n",
    "    root.rowconfigure(0, weight=2)\n",
    "    content.columnconfigure(0, weight=4)\n",
    "    content.columnconfigure(1, weight=4)\n",
    "    content.columnconfigure(2, weight=4)\n",
    "    content.columnconfigure(3, weight=2)\n",
    "    content.columnconfigure(4, weight=2)\n",
    "    content.rowconfigure(1, weight=2)\n",
    "\n",
    "    root.mainloop()\n",
    "\n",
    "    return numero"
   ]
  },
  {
   "cell_type": "markdown",
   "id": "9567d917-bbad-434e-bfbb-10fabe3f9c9d",
   "metadata": {},
   "source": [
    "`seleção_virus` : Essa função cria uma caixa interativa, onde é possível digitar o nome do vírus que se deseja procurar o genoma. A variável `nome_virus` salva os vírus selecionados, para que se possa realizar a busca no NCBI."
   ]
  },
  {
   "cell_type": "code",
   "execution_count": 7,
   "id": "19170b45-e191-45bd-8735-7374328c7be9",
   "metadata": {},
   "outputs": [],
   "source": [
    "def seleção_virus():\n",
    "\n",
    "    root = Tk()\n",
    "\n",
    "    content = ttk.Frame(root, padding=(3,3,12,12))\n",
    "    namelbl = ttk.Label(content, text=\"Nome do Vírus\")\n",
    "    nome_virus = ttk.Entry(content)\n",
    "\n",
    "    ok = ttk.Button(content, text=\"OK\")\n",
    "    cancelar = ttk.Button(content, text=\"Cancelar\")\n",
    "\n",
    "    content.grid(column=0, row=0, sticky=(N, S, E, W))\n",
    "    namelbl.grid(column=2, row=0, columnspan=3, sticky=(N, W), padx=5)\n",
    "    nome_virus.grid(column=1, row=1, columnspan=4, sticky=(N,E,W), pady=5, padx=5)\n",
    "    ok.grid(column=3, row=3)\n",
    "    cancelar.grid(column=4, row=3)\n",
    "\n",
    "    root.columnconfigure(0, weight=2)\n",
    "    root.rowconfigure(0, weight=2)\n",
    "    content.columnconfigure(0, weight=4)\n",
    "    content.columnconfigure(1, weight=4)\n",
    "    content.columnconfigure(2, weight=4)\n",
    "    content.columnconfigure(3, weight=2)\n",
    "    content.columnconfigure(4, weight=2)\n",
    "    content.rowconfigure(1, weight=2)\n",
    "\n",
    "    root.mainloop()\n",
    "\n",
    "    return nome_virus"
   ]
  },
  {
   "cell_type": "markdown",
   "id": "9efd3457-7013-4f95-8453-e3774e35d254",
   "metadata": {},
   "source": [
    "`buscar_genoma` : Essa função busca o vírus selecionado na base de dados do NCBI (National Center for Biotechnology Information). Para isso, a função recebe o nome do vírus, busca o ID correspondente e retorna essa informação ao usuário. Esse é um passo muito importante, pois um mesmo vírus pode ter diferentes cepas e sequenciamentos, os quais terão diferentes IDs no NCBI. Caso o vírus não esteja na base de dados do site, a função informa o usuário sobre esse problema e requisita uma nova tentativa"
   ]
  },
  {
   "cell_type": "code",
   "execution_count": null,
   "id": "51c0bc83-1548-44c7-ae7d-ea4338359f55",
   "metadata": {},
   "outputs": [],
   "source": [
    "def buscar_genoma(nome_virus):\n",
    "    Entrez.email = \"computandocombiopy@gmail.com\"\n",
    "    termo_de_busca = f\"{nome_virus} complete genome\"\n",
    "    busca = Entrez.esearch (db = \"nucleotide\", term = termo_de_busca, retmax = 1)\n",
    "    resultado = Entrez.read(busca)\n",
    "    busca.close()\n",
    "    \n",
    "    id_do_virus = (resultado[\"IdList\"])\n",
    "\n",
    "    if not id_do_virus:\n",
    "        print(f\"Não há um vírus {nome_virus} no NCBI. Tente outra vez!\")\n",
    "\n",
    "    return id_do_virus[0]"
   ]
  },
  {
   "cell_type": "markdown",
   "id": "5bee5b7e-991c-4c23-94de-4d0ee7764a66",
   "metadata": {},
   "source": [
    "`baixar_genoma` : Essa função será utilizada para baixar os genomas dos vírus escolhidos pelo usuário. "
   ]
  },
  {
   "cell_type": "code",
   "execution_count": null,
   "id": "5f4e586e-1330-42e8-9ef4-4040f1a2e4d3",
   "metadata": {},
   "outputs": [],
   "source": [
    "def baixar_genoma(iden, output_folder=Path(\"data\")/\"genomes\"):\n",
    "    \n",
    "    # Faz os genomas irem para uma pasta relativa ao repositório\n",
    "    output_folder.mkdir(parents=True, exist_ok=True)\n",
    "    filename= output_folder/f\"{iden}.fasta\"\n",
    "    \n",
    "    # Acessando o Entrez\n",
    "    Entrez.email=\"computandocombiopy@gmail.com\"\n",
    "\n",
    "    # Checa se o arquivo fasta existe, se não, ele o cria\n",
    "    if not filename.exists():\n",
    "        \n",
    "        #Baixa o arquivo .fasta (funciona para GenBank e RefSeq)\n",
    "        stream= Entrez.efetch(\n",
    "            db=\"nucleotide\",id=iden, rettype=\"fasta\", retmode=\"text\"\n",
    "        )\n",
    "        data = stream.read()\n",
    "        \n",
    "        #Checa se data tá vazio ou não\n",
    "        if not data:\n",
    "            print(\"Error: Resposta vazia do NCBI.\")\n",
    "            \n",
    "        else:\n",
    "            with open(filename, \"w\") as output:\n",
    "                output.write(data)\n",
    "        print(f\"Salvo em {filename}\")"
   ]
  },
  {
   "cell_type": "markdown",
   "id": "53ac7675-5297-42b1-902c-03b05641a0db",
   "metadata": {},
   "source": [
    "`rodar_muscle` : Função que roda o muscle, utilizado para realizar o alinhamento entre genosmas de diferentes vírus, a fim de compará-los."
   ]
  },
  {
   "cell_type": "code",
   "execution_count": null,
   "id": "13f3ae32-ff8f-4059-95fd-af17f57b4f87",
   "metadata": {},
   "outputs": [],
   "source": [
    "def rodar_muscle(entrada_fasta, saida_fasta): #recebe 2 arquivos como parâmetros, um genomas.fasta e outro genomas_alinhados.fasta (onde o MUSCLE salva o resultado do alinhamento múltiplo)\n",
    "    \n",
    "    # Acessa o executável do MUSCLE\n",
    "    muscle_exe = \"muscle-win64.v5.3.exe\"\n",
    "    \n",
    "    # Alinha o arquivo de entrada e coloca os dados de saída no arquivo criado pelo executável, no caso genomas_alinhados.fasta, que foi passado como parâmetro\n",
    "    comando = [muscle_exe, \"-align\", entrada_fasta, \"-output\", saida_fasta]\n",
    "    \n",
    "    # Tratamento de erro\n",
    "    try: \n",
    "        resultado = subprocess.run(comando, check=True, capture_output=True, text=True) \n",
    "        print(\"MUSCLE finalizado com sucesso.\")\n",
    "        print(\"STDOUT:\", resultado.stdout)\n",
    "        print(\"STDERR:\", resultado.stderr)\n",
    "    except subprocess.CalledProcessError as e:\n",
    "        print(\"Erro ao rodar MUSCLE:\")\n",
    "        print(\"STDOUT:\", e.stdout)\n",
    "        print(\"STDERR:\", e.stderr)\n",
    "        \n",
    "        # Imprime o erro novamente, além de interromper o programa, impedindo que o erro se prolongue\n",
    "        raise "
   ]
  },
  {
   "cell_type": "markdown",
   "id": "09564c58-a7b9-415d-9f8f-520904f49e08",
   "metadata": {},
   "source": [
    "`plotar_matriz_triangular` : Cria uma matriz triangular, representando as semelhanças e diferenças entre os vírus escolhidos. Com isso, gera um gráfico, possibilitando um entendimento mais visual."
   ]
  },
  {
   "cell_type": "code",
   "execution_count": null,
   "id": "6e4df275-56b2-4e35-b3ae-30b70ce4ba52",
   "metadata": {},
   "outputs": [],
   "source": [
    "def plotar_matriz_triangular(nomes, matriz): #recebe uma lista de nomes e uma matriz de similaridade, com valores entre 0 e 1\n",
    "    matriz_np = np.array(matriz) #garantindo que a matriz é um array NumPy, necessário para facilitar as operações matemáticas e criação de gráficos\n",
    "\n",
    "    # Máscara para esconder a parte superior da matriz (acima da diagonal)\n",
    "    mask = np.triu(np.ones_like(matriz_np, dtype=bool))\n",
    "\n",
    "    plt.figure(figsize=(8, 6)) #criando figura com tamanho definido em polegadas (largura, altura)\n",
    "    sns.heatmap(matriz_np, annot=True, fmt=\".2f\", mask=mask,\n",
    "                xticklabels=nomes, yticklabels=nomes,\n",
    "                cmap=\"YlGnBu\", linewidths=0.5, cbar_kws={\"label\": \"Similaridade\"},\n",
    "                vmin=0.001, vmax=1.0)\n",
    "\n",
    "    plt.title(\"Matriz de Similaridade Genômica\", fontsize=16)\n",
    "    plt.xticks(rotation=45, ha='right')\n",
    "    plt.yticks(rotation=0)\n",
    "    plt.tight_layout()\n",
    "    plt.show()"
   ]
  },
  {
   "cell_type": "markdown",
   "id": "2514bd92-371a-40d5-af90-9fcc24f6e9dc",
   "metadata": {},
   "source": [
    "## Referências:\n",
    "\n",
    "Sequenciamento genômico: no rastro do vírus. Disponível em: <https://agencia.fiocruz.br/sequenciamento-genomico-no-rastro-do-virus>. Acesso em: 11 jun. 2025.\n",
    "\n",
    "Accessing NCBI’s Entrez databases — Biopython 1.85 documentation. Disponível em: <https://biopython.org/docs/latest/Tutorial/chapter_entrez.html#chapter-entrez>. Acesso em: 11 jun. 2025.\n",
    "\n",
    "NATIONAL CENTER FOR BIOTECHNOLOGY INFORMATION. Our Mission - NCBI. Disponível em: <https://www.ncbi.nlm.nih.gov/home/about/mission/>.\n",
    "\n",
    "‌DOS, C. GenBank. Disponível em: <https://pt.wikipedia.org/wiki/GenBank>. Acesso em: 11 jun. 2025.\n",
    "\n",
    "‌BIOPYTHON. Biopython · Biopython. Disponível em: <https://biopython.org/>.\n",
    "\n",
    "Biopython Documentation — Biopython 1.85 documentation. Disponível em: <https://biopython.org/docs/latest/index.html#>. Acesso em: 11 jun. 2025.\n",
    "\n",
    "‌Cock, P. J. A., Antao, T., Chang, J. T., Chapman, B. A., Cox, C. J., Dalke, A., Friedberg, I., Hamelryck, T., Kauff, F., Wilczynski, B., & de Hoon, M. J. L. (2009). Biopython: freely available Python tools for computational molecular biology and bioinformatics. Bioinformatics, 25(11), 1422–1423.\n",
    "\n",
    "‌OPENAI. ChatGPT (versão GPT-4) [ferramenta de inteligência artificial]. Disponível em: https://chat.openai.com/. Acesso em: 11 jun. 2025.\n",
    "\n",
    "WIKIPEDIA CONTRIBUTORS. Sequence alignment. Disponível em: <https://en.wikipedia.org/wiki/Sequence_alignment>.\n",
    "\n",
    "WIKIPEDIA CONTRIBUTORS. MUSCLE (alignment software).\n",
    "\n",
    "INTRODUÇÃO, 3. 1. Alinhamento de Seqüências. Disponível em: <https://professor.pucgoias.edu.br/SiteDocente/admin/arquivosUpload/18497/material/Cap.%203%20Alinhamento%20de%20sequ%C3%AAncias.pdf>. Acesso em: 11 jun. 2025.\n",
    "\n",
    "The module for multiple sequence alignments, AlignIO. Disponível em: <https://biopython.org/wiki/AlignIO>. Acesso em: 11 jun. 2025.\n",
    "\n",
    "Introduction to NumPy. Disponível em: <https://www.w3schools.com/python/numpy/numpy_intro.asp>. Acesso em: 11 jun. 2025.\n",
    "\n",
    "\n",
    "\n",
    "Edgar, R. C. (2004). MUSCLE: a multiple sequence alignment method with reduced time and space complexity. BMC Bioinformatics, 5, 113. \n",
    "\n",
    "\n",
    "TkDocs home. Disponível em: <https://tkdocs.com/index.html>. Acesso em: 18 jun. 2025."
   ]
  },
  {
   "cell_type": "code",
   "execution_count": null,
   "id": "e4c8ce9b-e31e-4bba-90c1-b8e135215c33",
   "metadata": {},
   "outputs": [],
   "source": []
  }
 ],
 "metadata": {
  "kernelspec": {
   "display_name": "ilumpy",
   "language": "python",
   "name": "ilumpy"
  },
  "language_info": {
   "codemirror_mode": {
    "name": "ipython",
    "version": 3
   },
   "file_extension": ".py",
   "mimetype": "text/x-python",
   "name": "python",
   "nbconvert_exporter": "python",
   "pygments_lexer": "ipython3",
   "version": "3.12.7"
  }
 },
 "nbformat": 4,
 "nbformat_minor": 5
}
