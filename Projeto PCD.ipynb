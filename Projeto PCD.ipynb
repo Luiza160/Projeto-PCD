{
 "cells": [
  {
   "cell_type": "code",
   "execution_count": null,
   "id": "43b56ffb-cb1f-4756-a52a-eb89696a2027",
   "metadata": {},
   "outputs": [],
   "source": [
    "from Bio import Entrez, SeqIO\n",
    "\n",
    "Entrez.email = \"computandocombiopy@gmail.com\"\n",
    "\n",
    "def buscar_genoma(nome_virus):\n",
    "    termo_de_busca = f\"{nome_virus} complete genome\"\n",
    "    busca = Entrez.esearch (db = \"nucleotide\", term = termo_de_busca, retmax = 1)\n",
    "    resultado = Entrez.read(busca)\n",
    "    busca.close()\n",
    "    \n",
    "    id_do_virus = (resultado[\"IdList\"])\n",
    "\n",
    "    if not id_do_virus:\n",
    "        print(f\"Não há um vírus {nome_virus} no NCBI. Tente outra vez!\")\n",
    "\n",
    "    return id_do_virus[0]"
   ]
  }
 ],
 "metadata": {
  "kernelspec": {
   "display_name": "ilumpy",
   "language": "python",
   "name": "ilumpy"
  },
  "language_info": {
   "codemirror_mode": {
    "name": "ipython",
    "version": 3
   },
   "file_extension": ".py",
   "mimetype": "text/x-python",
   "name": "python",
   "nbconvert_exporter": "python",
   "pygments_lexer": "ipython3",
   "version": "3.12.7"
  }
 },
 "nbformat": 4,
 "nbformat_minor": 5
}
